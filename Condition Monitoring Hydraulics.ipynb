{
 "cells": [
  {
   "cell_type": "code",
   "execution_count": 165,
   "metadata": {},
   "outputs": [],
   "source": [
    "#Hydraulic system condition monitoring \n",
    "#Dataset can be found at https://archive.ics.uci.edu/ml/datasets/Condition+monitoring+of+hydraulic+systems\n",
    "import pandas as pd\n",
    "from scipy.signal import decimate\n",
    "import matplotlib.pyplot as plt\n",
    "import numpy as np\n",
    "from  sklearn.model_selection import train_test_split\n",
    "from sklearn.preprocessing import MinMaxScaler"
   ]
  },
  {
   "cell_type": "code",
   "execution_count": 227,
   "metadata": {},
   "outputs": [],
   "source": [
    "from sklearn.neighbors import KNeighborsClassifier\n",
    "from sklearn.ensemble import RandomForestClassifier\n",
    "from sklearn.ensemble import ExtraTreesClassifier\n",
    "from sklearn.ensemble import BaggingClassifier\n",
    "from sklearn.svm import SVC\n",
    "from xgboost import XGBClassifier"
   ]
  },
  {
   "cell_type": "code",
   "execution_count": 105,
   "metadata": {},
   "outputs": [],
   "source": [
    "from sklearn.metrics import roc_auc_score\n",
    "from sklearn.metrics import f1_score\n",
    "from sklearn.model_selection import RepeatedStratifiedKFold\n",
    "from sklearn.metrics import accuracy_score, plot_confusion_matrix"
   ]
  },
  {
   "cell_type": "markdown",
   "metadata": {},
   "source": [
    "### Loading the data"
   ]
  },
  {
   "cell_type": "code",
   "execution_count": 4,
   "metadata": {},
   "outputs": [
    {
     "data": {
      "text/plain": [
       "(2205, 5)"
      ]
     },
     "execution_count": 4,
     "metadata": {},
     "output_type": "execute_result"
    }
   ],
   "source": [
    "features = ['Cooler Cond.','Valve Cond.', 'pump leakage','Hydraulic accm.','stable flag']\n",
    "target = pd.read_csv(\"e:/data/Hydraulic_Systems/profile.txt\",sep='\\t', names = features)\n",
    "target.columns = features\n",
    "target.shape"
   ]
  },
  {
   "cell_type": "code",
   "execution_count": 34,
   "metadata": {},
   "outputs": [
    {
     "data": {
      "text/html": [
       "<div>\n",
       "<style scoped>\n",
       "    .dataframe tbody tr th:only-of-type {\n",
       "        vertical-align: middle;\n",
       "    }\n",
       "\n",
       "    .dataframe tbody tr th {\n",
       "        vertical-align: top;\n",
       "    }\n",
       "\n",
       "    .dataframe thead th {\n",
       "        text-align: right;\n",
       "    }\n",
       "</style>\n",
       "<table border=\"1\" class=\"dataframe\">\n",
       "  <thead>\n",
       "    <tr style=\"text-align: right;\">\n",
       "      <th></th>\n",
       "      <th>Cooler Cond.</th>\n",
       "      <th>Valve Cond.</th>\n",
       "      <th>pump leakage</th>\n",
       "      <th>Hydraulic accm.</th>\n",
       "      <th>stable flag</th>\n",
       "    </tr>\n",
       "  </thead>\n",
       "  <tbody>\n",
       "    <tr>\n",
       "      <th>2200</th>\n",
       "      <td>100</td>\n",
       "      <td>100</td>\n",
       "      <td>0</td>\n",
       "      <td>90</td>\n",
       "      <td>0</td>\n",
       "    </tr>\n",
       "    <tr>\n",
       "      <th>2201</th>\n",
       "      <td>100</td>\n",
       "      <td>100</td>\n",
       "      <td>0</td>\n",
       "      <td>90</td>\n",
       "      <td>0</td>\n",
       "    </tr>\n",
       "    <tr>\n",
       "      <th>2202</th>\n",
       "      <td>100</td>\n",
       "      <td>100</td>\n",
       "      <td>0</td>\n",
       "      <td>90</td>\n",
       "      <td>0</td>\n",
       "    </tr>\n",
       "    <tr>\n",
       "      <th>2203</th>\n",
       "      <td>100</td>\n",
       "      <td>100</td>\n",
       "      <td>0</td>\n",
       "      <td>90</td>\n",
       "      <td>0</td>\n",
       "    </tr>\n",
       "    <tr>\n",
       "      <th>2204</th>\n",
       "      <td>100</td>\n",
       "      <td>100</td>\n",
       "      <td>0</td>\n",
       "      <td>90</td>\n",
       "      <td>0</td>\n",
       "    </tr>\n",
       "  </tbody>\n",
       "</table>\n",
       "</div>"
      ],
      "text/plain": [
       "      Cooler Cond.  Valve Cond.  pump leakage  Hydraulic accm.  stable flag\n",
       "2200           100          100             0               90            0\n",
       "2201           100          100             0               90            0\n",
       "2202           100          100             0               90            0\n",
       "2203           100          100             0               90            0\n",
       "2204           100          100             0               90            0"
      ]
     },
     "execution_count": 34,
     "metadata": {},
     "output_type": "execute_result"
    }
   ],
   "source": [
    "target.tail()"
   ]
  },
  {
   "cell_type": "code",
   "execution_count": 5,
   "metadata": {},
   "outputs": [
    {
     "data": {
      "text/plain": [
       "Cooler Cond.       0\n",
       "Valve Cond.        0\n",
       "pump leakage       0\n",
       "Hydraulic accm.    0\n",
       "stable flag        0\n",
       "dtype: int64"
      ]
     },
     "execution_count": 5,
     "metadata": {},
     "output_type": "execute_result"
    }
   ],
   "source": [
    "#There are 2205 states from each of the 5 target condition variables.\n",
    "target.isnull().sum()"
   ]
  },
  {
   "cell_type": "code",
   "execution_count": 6,
   "metadata": {},
   "outputs": [],
   "source": [
    "#Pressure sensors fs = 100 Hz\n",
    "PS1 = pd.read_csv(\"e:/data/Hydraulic_Systems/ps1.txt\",sep='\\t',header=None)\n",
    "PS2 = pd.read_csv(\"e:/data/Hydraulic_Systems/ps2.txt\",sep='\\t',header=None)\n",
    "PS3 = pd.read_csv(\"e:/data/Hydraulic_Systems/ps3.txt\",sep='\\t',header=None)\n",
    "PS4 = pd.read_csv(\"e:/data/Hydraulic_Systems/ps4.txt\",sep='\\t',header=None)\n",
    "PS5 = pd.read_csv(\"e:/data/Hydraulic_Systems/ps5.txt\",sep='\\t',header=None)\n",
    "PS6 = pd.read_csv(\"e:/data/Hydraulic_Systems/ps6.txt\",sep='\\t',header=None)"
   ]
  },
  {
   "cell_type": "code",
   "execution_count": 10,
   "metadata": {},
   "outputs": [
    {
     "name": "stdout",
     "output_type": "stream",
     "text": [
      "Pressure sensors shape\n",
      "PS1: (2205, 6000)\n",
      "PS2: (2205, 6000)\n",
      "PS3: (2205, 6000)\n",
      "PS4: (2205, 6000)\n",
      "PS5: (2205, 6000)\n",
      "PS6: (2205, 6000)\n"
     ]
    }
   ],
   "source": [
    "#Each pressure sensors has 6k features and 2205 measurements. \n",
    "print('Pressure sensors shape')\n",
    "print('PS1: {}'.format(PS1.shape))\n",
    "print('PS2: {}'.format(PS2.shape))\n",
    "print('PS3: {}'.format(PS3.shape))\n",
    "print('PS4: {}'.format(PS4.shape))\n",
    "print('PS5: {}'.format(PS5.shape))\n",
    "print('PS6: {}'.format(PS6.shape))"
   ]
  },
  {
   "cell_type": "code",
   "execution_count": 11,
   "metadata": {},
   "outputs": [],
   "source": [
    "#Motor power sensor fs = 100 Hz\n",
    "EPS1= pd.read_csv(\"e:/data/Hydraulic_Systems/EPS1.txt\",sep='\\t',header=None)"
   ]
  },
  {
   "cell_type": "code",
   "execution_count": 12,
   "metadata": {},
   "outputs": [
    {
     "name": "stdout",
     "output_type": "stream",
     "text": [
      "EPS1 shape: (2205, 6000)\n"
     ]
    }
   ],
   "source": [
    "print('EPS1 shape: {}'.format(EPS1.shape))"
   ]
  },
  {
   "cell_type": "code",
   "execution_count": 13,
   "metadata": {},
   "outputs": [],
   "source": [
    "#Volume flow sensors fs = 10 Hz\n",
    "FS1 = pd.read_csv(\"e:/data/Hydraulic_Systems/FS1.txt\",sep='\\t',header=None)\n",
    "FS2 = pd.read_csv(\"e:/data/Hydraulic_Systems/FS2.txt\",sep='\\t',header=None)"
   ]
  },
  {
   "cell_type": "code",
   "execution_count": 14,
   "metadata": {},
   "outputs": [
    {
     "name": "stdout",
     "output_type": "stream",
     "text": [
      "FS1 shape: (2205, 600)\n",
      "FS2 shape: (2205, 600)\n"
     ]
    }
   ],
   "source": [
    "print('FS1 shape: {}'.format(FS1.shape))\n",
    "print('FS2 shape: {}'.format(FS2.shape))"
   ]
  },
  {
   "cell_type": "code",
   "execution_count": 15,
   "metadata": {},
   "outputs": [],
   "source": [
    "#Temperature sensors fs= 1 Hz\n",
    "TS1 = pd.read_csv(\"e:/data/Hydraulic_Systems/TS1.txt\",sep='\\t',header=None)\n",
    "TS2 = pd.read_csv(\"e:/data/Hydraulic_Systems/TS2.txt\",sep='\\t',header=None)\n",
    "TS3 = pd.read_csv(\"e:/data/Hydraulic_Systems/TS3.txt\",sep='\\t',header=None)\n",
    "TS4 = pd.read_csv(\"e:/data/Hydraulic_Systems/TS4.txt\",sep='\\t',header=None)"
   ]
  },
  {
   "cell_type": "code",
   "execution_count": 16,
   "metadata": {},
   "outputs": [
    {
     "name": "stdout",
     "output_type": "stream",
     "text": [
      "TS1 shape: (2205, 60)\n",
      "TS2 shape: (2205, 60)\n",
      "TS3 shape: (2205, 60)\n",
      "TS4 shape: (2205, 60)\n"
     ]
    }
   ],
   "source": [
    "print('TS1 shape: {}'.format(TS1.shape))\n",
    "print('TS2 shape: {}'.format(TS2.shape))\n",
    "print('TS3 shape: {}'.format(TS3.shape))\n",
    "print('TS4 shape: {}'.format(TS4.shape))"
   ]
  },
  {
   "cell_type": "code",
   "execution_count": 17,
   "metadata": {},
   "outputs": [],
   "source": [
    "#Vibration sensor (VS1) fs= 1 Hz\n",
    "VS1 = pd.read_csv(\"e:/data/Hydraulic_Systems/VS1.txt\",sep='\\t',header=None)\n",
    "\n",
    "#Virtual cooling efficiency sensor (CE) fs= 1 Hz\n",
    "CE = pd.read_csv(\"e:/data/Hydraulic_Systems/CE.txt\",sep='\\t',header=None)\n",
    "\n",
    "#Virtual cooling power sensor (CP) fs=1 Hz\n",
    "CP = pd.read_csv(\"e:/data/Hydraulic_Systems/CP.txt\",sep='\\t',header=None)\n",
    "\n",
    "#Efficiency factor (SE): 1 Hz\n",
    "SE = pd.read_csv(\"e:/data/Hydraulic_Systems/SE.txt\",sep='\\t',header=None)"
   ]
  },
  {
   "cell_type": "code",
   "execution_count": 18,
   "metadata": {},
   "outputs": [
    {
     "name": "stdout",
     "output_type": "stream",
     "text": [
      "(2205, 60)\n",
      "(2205, 60)\n",
      "(2205, 60)\n",
      "(2205, 60)\n"
     ]
    }
   ],
   "source": [
    "print(VS1.shape) # 2205 samples, with 60 data points each.\n",
    "print(CE.shape)\n",
    "print(CP.shape)\n",
    "print(SE.shape)"
   ]
  },
  {
   "cell_type": "markdown",
   "metadata": {},
   "source": [
    "### Understanding the dataset"
   ]
  },
  {
   "cell_type": "code",
   "execution_count": 143,
   "metadata": {},
   "outputs": [
    {
     "data": {
      "text/html": [
       "<div>\n",
       "<style scoped>\n",
       "    .dataframe tbody tr th:only-of-type {\n",
       "        vertical-align: middle;\n",
       "    }\n",
       "\n",
       "    .dataframe tbody tr th {\n",
       "        vertical-align: top;\n",
       "    }\n",
       "\n",
       "    .dataframe thead th {\n",
       "        text-align: right;\n",
       "    }\n",
       "</style>\n",
       "<table border=\"1\" class=\"dataframe\">\n",
       "  <thead>\n",
       "    <tr style=\"text-align: right;\">\n",
       "      <th></th>\n",
       "      <th>0</th>\n",
       "      <th>1</th>\n",
       "      <th>2</th>\n",
       "      <th>3</th>\n",
       "      <th>4</th>\n",
       "      <th>5</th>\n",
       "      <th>6</th>\n",
       "      <th>7</th>\n",
       "      <th>8</th>\n",
       "      <th>9</th>\n",
       "      <th>...</th>\n",
       "      <th>5990</th>\n",
       "      <th>5991</th>\n",
       "      <th>5992</th>\n",
       "      <th>5993</th>\n",
       "      <th>5994</th>\n",
       "      <th>5995</th>\n",
       "      <th>5996</th>\n",
       "      <th>5997</th>\n",
       "      <th>5998</th>\n",
       "      <th>5999</th>\n",
       "    </tr>\n",
       "  </thead>\n",
       "  <tbody>\n",
       "    <tr>\n",
       "      <th>count</th>\n",
       "      <td>2205.000000</td>\n",
       "      <td>2205.000000</td>\n",
       "      <td>2205.000000</td>\n",
       "      <td>2205.000000</td>\n",
       "      <td>2205.000000</td>\n",
       "      <td>2205.000000</td>\n",
       "      <td>2205.000000</td>\n",
       "      <td>2205.000000</td>\n",
       "      <td>2205.000000</td>\n",
       "      <td>2205.000000</td>\n",
       "      <td>...</td>\n",
       "      <td>2205.000000</td>\n",
       "      <td>2205.000000</td>\n",
       "      <td>2205.000000</td>\n",
       "      <td>2205.000000</td>\n",
       "      <td>2205.000000</td>\n",
       "      <td>2205.000000</td>\n",
       "      <td>2205.000000</td>\n",
       "      <td>2205.000000</td>\n",
       "      <td>2205.000000</td>\n",
       "      <td>2205.000000</td>\n",
       "    </tr>\n",
       "    <tr>\n",
       "      <th>mean</th>\n",
       "      <td>148.978467</td>\n",
       "      <td>148.977220</td>\n",
       "      <td>148.966916</td>\n",
       "      <td>148.647410</td>\n",
       "      <td>147.968898</td>\n",
       "      <td>147.511646</td>\n",
       "      <td>149.992000</td>\n",
       "      <td>151.536866</td>\n",
       "      <td>150.853116</td>\n",
       "      <td>151.464689</td>\n",
       "      <td>...</td>\n",
       "      <td>148.976562</td>\n",
       "      <td>148.975782</td>\n",
       "      <td>148.976200</td>\n",
       "      <td>148.977447</td>\n",
       "      <td>148.976726</td>\n",
       "      <td>148.977306</td>\n",
       "      <td>148.978122</td>\n",
       "      <td>148.976844</td>\n",
       "      <td>148.976222</td>\n",
       "      <td>148.977125</td>\n",
       "    </tr>\n",
       "    <tr>\n",
       "      <th>std</th>\n",
       "      <td>3.684421</td>\n",
       "      <td>3.685462</td>\n",
       "      <td>3.685930</td>\n",
       "      <td>3.790893</td>\n",
       "      <td>4.023828</td>\n",
       "      <td>4.556763</td>\n",
       "      <td>4.280233</td>\n",
       "      <td>3.527235</td>\n",
       "      <td>3.419919</td>\n",
       "      <td>3.458501</td>\n",
       "      <td>...</td>\n",
       "      <td>3.686761</td>\n",
       "      <td>3.686337</td>\n",
       "      <td>3.688244</td>\n",
       "      <td>3.688526</td>\n",
       "      <td>3.684435</td>\n",
       "      <td>3.683719</td>\n",
       "      <td>3.688438</td>\n",
       "      <td>3.689265</td>\n",
       "      <td>3.682870</td>\n",
       "      <td>3.680577</td>\n",
       "    </tr>\n",
       "    <tr>\n",
       "      <th>min</th>\n",
       "      <td>144.920000</td>\n",
       "      <td>144.920000</td>\n",
       "      <td>144.560000</td>\n",
       "      <td>144.440000</td>\n",
       "      <td>141.190000</td>\n",
       "      <td>139.460000</td>\n",
       "      <td>142.770000</td>\n",
       "      <td>146.810000</td>\n",
       "      <td>146.440000</td>\n",
       "      <td>146.840000</td>\n",
       "      <td>...</td>\n",
       "      <td>144.460000</td>\n",
       "      <td>144.940000</td>\n",
       "      <td>144.840000</td>\n",
       "      <td>144.890000</td>\n",
       "      <td>144.940000</td>\n",
       "      <td>144.940000</td>\n",
       "      <td>144.880000</td>\n",
       "      <td>144.860000</td>\n",
       "      <td>144.940000</td>\n",
       "      <td>144.940000</td>\n",
       "    </tr>\n",
       "    <tr>\n",
       "      <th>25%</th>\n",
       "      <td>147.060000</td>\n",
       "      <td>147.100000</td>\n",
       "      <td>147.100000</td>\n",
       "      <td>146.180000</td>\n",
       "      <td>145.060000</td>\n",
       "      <td>144.770000</td>\n",
       "      <td>146.630000</td>\n",
       "      <td>149.840000</td>\n",
       "      <td>149.650000</td>\n",
       "      <td>150.310000</td>\n",
       "      <td>...</td>\n",
       "      <td>147.070000</td>\n",
       "      <td>147.070000</td>\n",
       "      <td>147.070000</td>\n",
       "      <td>147.080000</td>\n",
       "      <td>147.080000</td>\n",
       "      <td>147.090000</td>\n",
       "      <td>147.090000</td>\n",
       "      <td>147.070000</td>\n",
       "      <td>147.050000</td>\n",
       "      <td>147.060000</td>\n",
       "    </tr>\n",
       "    <tr>\n",
       "      <th>50%</th>\n",
       "      <td>148.560000</td>\n",
       "      <td>148.560000</td>\n",
       "      <td>148.560000</td>\n",
       "      <td>148.340000</td>\n",
       "      <td>148.130000</td>\n",
       "      <td>148.060000</td>\n",
       "      <td>150.560000</td>\n",
       "      <td>151.340000</td>\n",
       "      <td>150.520000</td>\n",
       "      <td>151.280000</td>\n",
       "      <td>...</td>\n",
       "      <td>148.580000</td>\n",
       "      <td>148.580000</td>\n",
       "      <td>148.560000</td>\n",
       "      <td>148.580000</td>\n",
       "      <td>148.560000</td>\n",
       "      <td>148.580000</td>\n",
       "      <td>148.560000</td>\n",
       "      <td>148.560000</td>\n",
       "      <td>148.560000</td>\n",
       "      <td>148.560000</td>\n",
       "    </tr>\n",
       "    <tr>\n",
       "      <th>75%</th>\n",
       "      <td>150.980000</td>\n",
       "      <td>150.980000</td>\n",
       "      <td>150.980000</td>\n",
       "      <td>150.870000</td>\n",
       "      <td>150.740000</td>\n",
       "      <td>150.710000</td>\n",
       "      <td>152.660000</td>\n",
       "      <td>153.320000</td>\n",
       "      <td>152.420000</td>\n",
       "      <td>153.160000</td>\n",
       "      <td>...</td>\n",
       "      <td>151.000000</td>\n",
       "      <td>150.980000</td>\n",
       "      <td>151.000000</td>\n",
       "      <td>151.000000</td>\n",
       "      <td>151.000000</td>\n",
       "      <td>150.980000</td>\n",
       "      <td>151.000000</td>\n",
       "      <td>150.980000</td>\n",
       "      <td>150.980000</td>\n",
       "      <td>150.980000</td>\n",
       "    </tr>\n",
       "    <tr>\n",
       "      <th>max</th>\n",
       "      <td>188.800000</td>\n",
       "      <td>188.880000</td>\n",
       "      <td>188.970000</td>\n",
       "      <td>188.840000</td>\n",
       "      <td>186.110000</td>\n",
       "      <td>187.000000</td>\n",
       "      <td>189.640000</td>\n",
       "      <td>187.880000</td>\n",
       "      <td>188.130000</td>\n",
       "      <td>188.280000</td>\n",
       "      <td>...</td>\n",
       "      <td>188.970000</td>\n",
       "      <td>189.070000</td>\n",
       "      <td>188.960000</td>\n",
       "      <td>188.880000</td>\n",
       "      <td>188.930000</td>\n",
       "      <td>188.910000</td>\n",
       "      <td>188.940000</td>\n",
       "      <td>188.950000</td>\n",
       "      <td>188.850000</td>\n",
       "      <td>188.880000</td>\n",
       "    </tr>\n",
       "  </tbody>\n",
       "</table>\n",
       "<p>8 rows × 6000 columns</p>\n",
       "</div>"
      ],
      "text/plain": [
       "              0            1            2            3            4     \\\n",
       "count  2205.000000  2205.000000  2205.000000  2205.000000  2205.000000   \n",
       "mean    148.978467   148.977220   148.966916   148.647410   147.968898   \n",
       "std       3.684421     3.685462     3.685930     3.790893     4.023828   \n",
       "min     144.920000   144.920000   144.560000   144.440000   141.190000   \n",
       "25%     147.060000   147.100000   147.100000   146.180000   145.060000   \n",
       "50%     148.560000   148.560000   148.560000   148.340000   148.130000   \n",
       "75%     150.980000   150.980000   150.980000   150.870000   150.740000   \n",
       "max     188.800000   188.880000   188.970000   188.840000   186.110000   \n",
       "\n",
       "              5            6            7            8            9     ...  \\\n",
       "count  2205.000000  2205.000000  2205.000000  2205.000000  2205.000000  ...   \n",
       "mean    147.511646   149.992000   151.536866   150.853116   151.464689  ...   \n",
       "std       4.556763     4.280233     3.527235     3.419919     3.458501  ...   \n",
       "min     139.460000   142.770000   146.810000   146.440000   146.840000  ...   \n",
       "25%     144.770000   146.630000   149.840000   149.650000   150.310000  ...   \n",
       "50%     148.060000   150.560000   151.340000   150.520000   151.280000  ...   \n",
       "75%     150.710000   152.660000   153.320000   152.420000   153.160000  ...   \n",
       "max     187.000000   189.640000   187.880000   188.130000   188.280000  ...   \n",
       "\n",
       "              5990         5991         5992         5993         5994  \\\n",
       "count  2205.000000  2205.000000  2205.000000  2205.000000  2205.000000   \n",
       "mean    148.976562   148.975782   148.976200   148.977447   148.976726   \n",
       "std       3.686761     3.686337     3.688244     3.688526     3.684435   \n",
       "min     144.460000   144.940000   144.840000   144.890000   144.940000   \n",
       "25%     147.070000   147.070000   147.070000   147.080000   147.080000   \n",
       "50%     148.580000   148.580000   148.560000   148.580000   148.560000   \n",
       "75%     151.000000   150.980000   151.000000   151.000000   151.000000   \n",
       "max     188.970000   189.070000   188.960000   188.880000   188.930000   \n",
       "\n",
       "              5995         5996         5997         5998         5999  \n",
       "count  2205.000000  2205.000000  2205.000000  2205.000000  2205.000000  \n",
       "mean    148.977306   148.978122   148.976844   148.976222   148.977125  \n",
       "std       3.683719     3.688438     3.689265     3.682870     3.680577  \n",
       "min     144.940000   144.880000   144.860000   144.940000   144.940000  \n",
       "25%     147.090000   147.090000   147.070000   147.050000   147.060000  \n",
       "50%     148.580000   148.560000   148.560000   148.560000   148.560000  \n",
       "75%     150.980000   151.000000   150.980000   150.980000   150.980000  \n",
       "max     188.910000   188.940000   188.950000   188.850000   188.880000  \n",
       "\n",
       "[8 rows x 6000 columns]"
      ]
     },
     "execution_count": 143,
     "metadata": {},
     "output_type": "execute_result"
    }
   ],
   "source": [
    "PS1.describe()"
   ]
  },
  {
   "cell_type": "code",
   "execution_count": 160,
   "metadata": {},
   "outputs": [
    {
     "data": {
      "image/png": "[encoded data removed]",
      "text/plain": [
       "<Figure size 432x288 with 1 Axes>"
      ]
     },
     "metadata": {
      "needs_background": "light"
     },
     "output_type": "display_data"
    }
   ],
   "source": [
    "_= plt.plot(PS1.mean(axis=1))"
   ]
  },
  {
   "cell_type": "code",
   "execution_count": 161,
   "metadata": {},
   "outputs": [
    {
     "data": {
      "image/png": "[encoded data removed]",
      "text/plain": [
       "<Figure size 432x288 with 1 Axes>"
      ]
     },
     "metadata": {
      "needs_background": "light"
     },
     "output_type": "display_data"
    }
   ],
   "source": [
    "_= plt.plot(PS2.mean(axis=1))"
   ]
  },
  {
   "cell_type": "code",
   "execution_count": 162,
   "metadata": {},
   "outputs": [
    {
     "data": {
      "image/png": "[encoded data removed]",
      "text/plain": [
       "<Figure size 432x288 with 1 Axes>"
      ]
     },
     "metadata": {
      "needs_background": "light"
     },
     "output_type": "display_data"
    }
   ],
   "source": [
    "_= plt.plot(PS3.mean(axis=1))"
   ]
  },
  {
   "cell_type": "code",
   "execution_count": 163,
   "metadata": {},
   "outputs": [
    {
     "data": {
      "image/png": "[encoded data removed]",
      "text/plain": [
       "<Figure size 432x288 with 1 Axes>"
      ]
     },
     "metadata": {
      "needs_background": "light"
     },
     "output_type": "display_data"
    }
   ],
   "source": [
    "_= plt.plot(PS4.mean(axis=1))"
   ]
  },
  {
   "cell_type": "code",
   "execution_count": 164,
   "metadata": {},
   "outputs": [
    {
     "data": {
      "image/png": "[encoded data removed]",
      "text/plain": [
       "<Figure size 432x288 with 1 Axes>"
      ]
     },
     "metadata": {
      "needs_background": "light"
     },
     "output_type": "display_data"
    }
   ],
   "source": [
    "_= plt.plot(PS5.mean(axis=1))"
   ]
  },
  {
   "cell_type": "code",
   "execution_count": 159,
   "metadata": {},
   "outputs": [
    {
     "data": {
      "image/png": "[encoded data removed]",
      "text/plain": [
       "<Figure size 432x288 with 1 Axes>"
      ]
     },
     "metadata": {
      "needs_background": "light"
     },
     "output_type": "display_data"
    }
   ],
   "source": [
    "_= plt.plot(PS6.mean(axis=1))"
   ]
  },
  {
   "cell_type": "code",
   "execution_count": 72,
   "metadata": {},
   "outputs": [],
   "source": [
    "EPS1.describe()"
   ]
  },
  {
   "cell_type": "code",
   "execution_count": 166,
   "metadata": {},
   "outputs": [
    {
     "data": {
      "image/png": "[encoded data removed]",
      "text/plain": [
       "<Figure size 432x288 with 1 Axes>"
      ]
     },
     "metadata": {
      "needs_background": "light"
     },
     "output_type": "display_data"
    }
   ],
   "source": [
    "_= plt.plot(EPS1.mean(axis=1))"
   ]
  },
  {
   "cell_type": "code",
   "execution_count": 73,
   "metadata": {},
   "outputs": [],
   "source": [
    "FS1.describe()"
   ]
  },
  {
   "cell_type": "code",
   "execution_count": 176,
   "metadata": {},
   "outputs": [
    {
     "data": {
      "image/png": "[encoded data removed]",
      "text/plain": [
       "<Figure size 432x288 with 1 Axes>"
      ]
     },
     "metadata": {
      "needs_background": "light"
     },
     "output_type": "display_data"
    }
   ],
   "source": [
    "_= plt.plot(FS1.mean(axis=1))"
   ]
  },
  {
   "cell_type": "code",
   "execution_count": 172,
   "metadata": {},
   "outputs": [
    {
     "data": {
      "image/png": "[encoded data removed]",
      "text/plain": [
       "<Figure size 432x288 with 1 Axes>"
      ]
     },
     "metadata": {
      "needs_background": "light"
     },
     "output_type": "display_data"
    }
   ],
   "source": [
    "_= plt.plot(TS1.mean(axis=1))"
   ]
  },
  {
   "cell_type": "code",
   "execution_count": 173,
   "metadata": {},
   "outputs": [
    {
     "data": {
      "image/png": "[encoded data removed]",
      "text/plain": [
       "<Figure size 432x288 with 1 Axes>"
      ]
     },
     "metadata": {
      "needs_background": "light"
     },
     "output_type": "display_data"
    }
   ],
   "source": [
    "_= plt.plot(TS2.mean(axis=1))"
   ]
  },
  {
   "cell_type": "code",
   "execution_count": 174,
   "metadata": {},
   "outputs": [
    {
     "data": {
      "image/png": "[encoded data removed]",
      "text/plain": [
       "<Figure size 432x288 with 1 Axes>"
      ]
     },
     "metadata": {
      "needs_background": "light"
     },
     "output_type": "display_data"
    }
   ],
   "source": [
    "_= plt.plot(TS3.mean(axis=1))"
   ]
  },
  {
   "cell_type": "code",
   "execution_count": 175,
   "metadata": {},
   "outputs": [
    {
     "data": {
      "image/png": "[encoded data removed]",
      "text/plain": [
       "<Figure size 432x288 with 1 Axes>"
      ]
     },
     "metadata": {
      "needs_background": "light"
     },
     "output_type": "display_data"
    }
   ],
   "source": [
    "_= plt.plot(TS4.mean(axis=1))"
   ]
  },
  {
   "cell_type": "code",
   "execution_count": 179,
   "metadata": {},
   "outputs": [
    {
     "data": {
      "image/png": "[encoded data removed]",
      "text/plain": [
       "<Figure size 432x288 with 1 Axes>"
      ]
     },
     "metadata": {
      "needs_background": "light"
     },
     "output_type": "display_data"
    }
   ],
   "source": [
    "_= plt.plot(VS1.mean(axis=1))"
   ]
  },
  {
   "cell_type": "code",
   "execution_count": 191,
   "metadata": {},
   "outputs": [
    {
     "data": {
      "image/png": "[encoded data removed]",
      "text/plain": [
       "<Figure size 432x288 with 1 Axes>"
      ]
     },
     "metadata": {
      "needs_background": "light"
     },
     "output_type": "display_data"
    }
   ],
   "source": [
    "_= plt.plot(CE.mean(axis=1))"
   ]
  },
  {
   "cell_type": "code",
   "execution_count": 192,
   "metadata": {},
   "outputs": [
    {
     "data": {
      "image/png": "[encoded data removed]",
      "text/plain": [
       "<Figure size 432x288 with 1 Axes>"
      ]
     },
     "metadata": {
      "needs_background": "light"
     },
     "output_type": "display_data"
    }
   ],
   "source": [
    "_= plt.plot(CP.mean(axis=1))"
   ]
  },
  {
   "cell_type": "code",
   "execution_count": 193,
   "metadata": {},
   "outputs": [
    {
     "data": {
      "image/png": "[encoded data removed]",
      "text/plain": [
       "<Figure size 432x288 with 1 Axes>"
      ]
     },
     "metadata": {
      "needs_background": "light"
     },
     "output_type": "display_data"
    }
   ],
   "source": [
    "_= plt.plot(SE.mean(axis=1))"
   ]
  },
  {
   "cell_type": "markdown",
   "metadata": {},
   "source": [
    "### Data preprocessing"
   ]
  },
  {
   "cell_type": "code",
   "execution_count": 194,
   "metadata": {},
   "outputs": [],
   "source": [
    "PS1_arr= PS1.mean(axis =1)\n",
    "PS2_arr= PS2.mean(axis =1)\n",
    "PS3_arr= PS3.mean(axis =1)\n",
    "PS4_arr= PS4.mean(axis =1)\n",
    "PS5_arr= PS5.mean(axis =1)\n",
    "PS6_arr= PS6.mean(axis =1)"
   ]
  },
  {
   "cell_type": "code",
   "execution_count": 195,
   "metadata": {},
   "outputs": [],
   "source": [
    "df=pd.DataFrame({\"PS1\":PS1_arr,\"PS2\":PS2_arr,\"PS3\":PS3_arr,\"PS4\":PS4_arr,\"PS5\":PS5_arr,\"PS6\":PS6_arr})"
   ]
  },
  {
   "cell_type": "code",
   "execution_count": 196,
   "metadata": {},
   "outputs": [
    {
     "data": {
      "text/plain": [
       "(2205, 6)"
      ]
     },
     "execution_count": 196,
     "metadata": {},
     "output_type": "execute_result"
    }
   ],
   "source": [
    "df.shape"
   ]
  },
  {
   "cell_type": "code",
   "execution_count": 197,
   "metadata": {},
   "outputs": [],
   "source": [
    "EPS1_arr = EPS1.mean(axis = 1)\n",
    "df['EPS1'] = EPS1_arr"
   ]
  },
  {
   "cell_type": "code",
   "execution_count": 198,
   "metadata": {},
   "outputs": [
    {
     "data": {
      "text/html": [
       "<div>\n",
       "<style scoped>\n",
       "    .dataframe tbody tr th:only-of-type {\n",
       "        vertical-align: middle;\n",
       "    }\n",
       "\n",
       "    .dataframe tbody tr th {\n",
       "        vertical-align: top;\n",
       "    }\n",
       "\n",
       "    .dataframe thead th {\n",
       "        text-align: right;\n",
       "    }\n",
       "</style>\n",
       "<table border=\"1\" class=\"dataframe\">\n",
       "  <thead>\n",
       "    <tr style=\"text-align: right;\">\n",
       "      <th></th>\n",
       "      <th>PS1</th>\n",
       "      <th>PS2</th>\n",
       "      <th>PS3</th>\n",
       "      <th>PS4</th>\n",
       "      <th>PS5</th>\n",
       "      <th>PS6</th>\n",
       "      <th>EPS1</th>\n",
       "    </tr>\n",
       "  </thead>\n",
       "  <tbody>\n",
       "    <tr>\n",
       "      <th>0</th>\n",
       "      <td>160.673492</td>\n",
       "      <td>109.466914</td>\n",
       "      <td>1.991475</td>\n",
       "      <td>0.0</td>\n",
       "      <td>9.842170</td>\n",
       "      <td>9.728097</td>\n",
       "      <td>2538.929167</td>\n",
       "    </tr>\n",
       "    <tr>\n",
       "      <th>1</th>\n",
       "      <td>160.603320</td>\n",
       "      <td>109.354890</td>\n",
       "      <td>1.976234</td>\n",
       "      <td>0.0</td>\n",
       "      <td>9.635142</td>\n",
       "      <td>9.529488</td>\n",
       "      <td>2531.498900</td>\n",
       "    </tr>\n",
       "    <tr>\n",
       "      <th>2</th>\n",
       "      <td>160.347720</td>\n",
       "      <td>109.158845</td>\n",
       "      <td>1.972224</td>\n",
       "      <td>0.0</td>\n",
       "      <td>9.530548</td>\n",
       "      <td>9.427949</td>\n",
       "      <td>2519.928000</td>\n",
       "    </tr>\n",
       "    <tr>\n",
       "      <th>3</th>\n",
       "      <td>160.188088</td>\n",
       "      <td>109.064807</td>\n",
       "      <td>1.946575</td>\n",
       "      <td>0.0</td>\n",
       "      <td>9.438827</td>\n",
       "      <td>9.337430</td>\n",
       "      <td>2511.541633</td>\n",
       "    </tr>\n",
       "    <tr>\n",
       "      <th>4</th>\n",
       "      <td>160.000472</td>\n",
       "      <td>108.931434</td>\n",
       "      <td>1.922707</td>\n",
       "      <td>0.0</td>\n",
       "      <td>9.358762</td>\n",
       "      <td>9.260636</td>\n",
       "      <td>2503.449500</td>\n",
       "    </tr>\n",
       "  </tbody>\n",
       "</table>\n",
       "</div>"
      ],
      "text/plain": [
       "          PS1         PS2       PS3  PS4       PS5       PS6         EPS1\n",
       "0  160.673492  109.466914  1.991475  0.0  9.842170  9.728097  2538.929167\n",
       "1  160.603320  109.354890  1.976234  0.0  9.635142  9.529488  2531.498900\n",
       "2  160.347720  109.158845  1.972224  0.0  9.530548  9.427949  2519.928000\n",
       "3  160.188088  109.064807  1.946575  0.0  9.438827  9.337430  2511.541633\n",
       "4  160.000472  108.931434  1.922707  0.0  9.358762  9.260636  2503.449500"
      ]
     },
     "execution_count": 198,
     "metadata": {},
     "output_type": "execute_result"
    }
   ],
   "source": [
    "df.head()"
   ]
  },
  {
   "cell_type": "code",
   "execution_count": 199,
   "metadata": {},
   "outputs": [],
   "source": [
    "FS1_arr = FS1.mean(axis = 1)\n",
    "df['FS1'] = FS1_arr\n",
    "\n",
    "FS2_arr = FS2.mean(axis = 1)\n",
    "df['FS2'] = FS2_arr\n",
    "\n",
    "TS1_arr = TS1.mean(axis = 1)\n",
    "df['TS1'] = TS1_arr\n",
    "\n",
    "TS2_arr = TS2.mean(axis = 1)\n",
    "df['TS2'] = TS2_arr\n",
    "\n",
    "TS3_arr = TS3.mean(axis = 1)\n",
    "df['TS3'] = TS3_arr\n",
    "\n",
    "TS4_arr = TS4.mean(axis = 1)\n",
    "df['TS4'] = TS4_arr\n",
    "\n",
    "VS1_arr = VS1.mean(axis = 1)\n",
    "df['VS1'] = VS1_arr\n",
    "\n",
    "CE_arr = CE.mean(axis = 1)\n",
    "df['CE'] = CE_arr\n",
    "\n",
    "CP_arr = CP.mean(axis = 1)\n",
    "df['CP'] = CP_arr\n",
    "\n",
    "SE_arr = SE.mean(axis = 1)\n",
    "df['SE'] = SE_arr"
   ]
  },
  {
   "cell_type": "code",
   "execution_count": 200,
   "metadata": {},
   "outputs": [
    {
     "data": {
      "text/html": [
       "<div>\n",
       "<style scoped>\n",
       "    .dataframe tbody tr th:only-of-type {\n",
       "        vertical-align: middle;\n",
       "    }\n",
       "\n",
       "    .dataframe tbody tr th {\n",
       "        vertical-align: top;\n",
       "    }\n",
       "\n",
       "    .dataframe thead th {\n",
       "        text-align: right;\n",
       "    }\n",
       "</style>\n",
       "<table border=\"1\" class=\"dataframe\">\n",
       "  <thead>\n",
       "    <tr style=\"text-align: right;\">\n",
       "      <th></th>\n",
       "      <th>PS1</th>\n",
       "      <th>PS2</th>\n",
       "      <th>PS3</th>\n",
       "      <th>PS4</th>\n",
       "      <th>PS5</th>\n",
       "      <th>PS6</th>\n",
       "      <th>EPS1</th>\n",
       "      <th>FS1</th>\n",
       "      <th>FS2</th>\n",
       "      <th>TS1</th>\n",
       "      <th>TS2</th>\n",
       "      <th>TS3</th>\n",
       "      <th>TS4</th>\n",
       "      <th>VS1</th>\n",
       "      <th>CE</th>\n",
       "      <th>CP</th>\n",
       "      <th>SE</th>\n",
       "    </tr>\n",
       "  </thead>\n",
       "  <tbody>\n",
       "    <tr>\n",
       "      <th>0</th>\n",
       "      <td>160.673492</td>\n",
       "      <td>109.466914</td>\n",
       "      <td>1.991475</td>\n",
       "      <td>0.0</td>\n",
       "      <td>9.842170</td>\n",
       "      <td>9.728097</td>\n",
       "      <td>2538.929167</td>\n",
       "      <td>6.709815</td>\n",
       "      <td>10.304592</td>\n",
       "      <td>35.621983</td>\n",
       "      <td>40.978767</td>\n",
       "      <td>38.471017</td>\n",
       "      <td>31.745250</td>\n",
       "      <td>0.576950</td>\n",
       "      <td>39.601350</td>\n",
       "      <td>1.862750</td>\n",
       "      <td>59.157183</td>\n",
       "    </tr>\n",
       "    <tr>\n",
       "      <th>1</th>\n",
       "      <td>160.603320</td>\n",
       "      <td>109.354890</td>\n",
       "      <td>1.976234</td>\n",
       "      <td>0.0</td>\n",
       "      <td>9.635142</td>\n",
       "      <td>9.529488</td>\n",
       "      <td>2531.498900</td>\n",
       "      <td>6.715315</td>\n",
       "      <td>10.403098</td>\n",
       "      <td>36.676967</td>\n",
       "      <td>41.532767</td>\n",
       "      <td>38.978967</td>\n",
       "      <td>34.493867</td>\n",
       "      <td>0.565850</td>\n",
       "      <td>25.786433</td>\n",
       "      <td>1.255550</td>\n",
       "      <td>59.335617</td>\n",
       "    </tr>\n",
       "    <tr>\n",
       "      <th>2</th>\n",
       "      <td>160.347720</td>\n",
       "      <td>109.158845</td>\n",
       "      <td>1.972224</td>\n",
       "      <td>0.0</td>\n",
       "      <td>9.530548</td>\n",
       "      <td>9.427949</td>\n",
       "      <td>2519.928000</td>\n",
       "      <td>6.718522</td>\n",
       "      <td>10.366250</td>\n",
       "      <td>37.880800</td>\n",
       "      <td>42.442450</td>\n",
       "      <td>39.631950</td>\n",
       "      <td>35.646150</td>\n",
       "      <td>0.576533</td>\n",
       "      <td>22.218233</td>\n",
       "      <td>1.113217</td>\n",
       "      <td>59.543150</td>\n",
       "    </tr>\n",
       "    <tr>\n",
       "      <th>3</th>\n",
       "      <td>160.188088</td>\n",
       "      <td>109.064807</td>\n",
       "      <td>1.946575</td>\n",
       "      <td>0.0</td>\n",
       "      <td>9.438827</td>\n",
       "      <td>9.337430</td>\n",
       "      <td>2511.541633</td>\n",
       "      <td>6.720565</td>\n",
       "      <td>10.302678</td>\n",
       "      <td>38.879050</td>\n",
       "      <td>43.403983</td>\n",
       "      <td>40.403383</td>\n",
       "      <td>36.579467</td>\n",
       "      <td>0.569267</td>\n",
       "      <td>20.459817</td>\n",
       "      <td>1.062150</td>\n",
       "      <td>59.794900</td>\n",
       "    </tr>\n",
       "    <tr>\n",
       "      <th>4</th>\n",
       "      <td>160.000472</td>\n",
       "      <td>108.931434</td>\n",
       "      <td>1.922707</td>\n",
       "      <td>0.0</td>\n",
       "      <td>9.358762</td>\n",
       "      <td>9.260636</td>\n",
       "      <td>2503.449500</td>\n",
       "      <td>6.690308</td>\n",
       "      <td>10.237750</td>\n",
       "      <td>39.803917</td>\n",
       "      <td>44.332750</td>\n",
       "      <td>41.310550</td>\n",
       "      <td>37.427900</td>\n",
       "      <td>0.577367</td>\n",
       "      <td>19.787017</td>\n",
       "      <td>1.070467</td>\n",
       "      <td>59.455267</td>\n",
       "    </tr>\n",
       "  </tbody>\n",
       "</table>\n",
       "</div>"
      ],
      "text/plain": [
       "          PS1         PS2       PS3  PS4       PS5       PS6         EPS1  \\\n",
       "0  160.673492  109.466914  1.991475  0.0  9.842170  9.728097  2538.929167   \n",
       "1  160.603320  109.354890  1.976234  0.0  9.635142  9.529488  2531.498900   \n",
       "2  160.347720  109.158845  1.972224  0.0  9.530548  9.427949  2519.928000   \n",
       "3  160.188088  109.064807  1.946575  0.0  9.438827  9.337430  2511.541633   \n",
       "4  160.000472  108.931434  1.922707  0.0  9.358762  9.260636  2503.449500   \n",
       "\n",
       "        FS1        FS2        TS1        TS2        TS3        TS4       VS1  \\\n",
       "0  6.709815  10.304592  35.621983  40.978767  38.471017  31.745250  0.576950   \n",
       "1  6.715315  10.403098  36.676967  41.532767  38.978967  34.493867  0.565850   \n",
       "2  6.718522  10.366250  37.880800  42.442450  39.631950  35.646150  0.576533   \n",
       "3  6.720565  10.302678  38.879050  43.403983  40.403383  36.579467  0.569267   \n",
       "4  6.690308  10.237750  39.803917  44.332750  41.310550  37.427900  0.577367   \n",
       "\n",
       "          CE        CP         SE  \n",
       "0  39.601350  1.862750  59.157183  \n",
       "1  25.786433  1.255550  59.335617  \n",
       "2  22.218233  1.113217  59.543150  \n",
       "3  20.459817  1.062150  59.794900  \n",
       "4  19.787017  1.070467  59.455267  "
      ]
     },
     "execution_count": 200,
     "metadata": {},
     "output_type": "execute_result"
    }
   ],
   "source": [
    "df.head()"
   ]
  },
  {
   "cell_type": "code",
   "execution_count": 201,
   "metadata": {},
   "outputs": [
    {
     "data": {
      "text/html": [
       "<div>\n",
       "<style scoped>\n",
       "    .dataframe tbody tr th:only-of-type {\n",
       "        vertical-align: middle;\n",
       "    }\n",
       "\n",
       "    .dataframe tbody tr th {\n",
       "        vertical-align: top;\n",
       "    }\n",
       "\n",
       "    .dataframe thead th {\n",
       "        text-align: right;\n",
       "    }\n",
       "</style>\n",
       "<table border=\"1\" class=\"dataframe\">\n",
       "  <thead>\n",
       "    <tr style=\"text-align: right;\">\n",
       "      <th></th>\n",
       "      <th>Cooler Cond.</th>\n",
       "      <th>Valve Cond.</th>\n",
       "      <th>pump leakage</th>\n",
       "      <th>Hydraulic accm.</th>\n",
       "      <th>stable flag</th>\n",
       "    </tr>\n",
       "  </thead>\n",
       "  <tbody>\n",
       "    <tr>\n",
       "      <th>0</th>\n",
       "      <td>3</td>\n",
       "      <td>100</td>\n",
       "      <td>0</td>\n",
       "      <td>130</td>\n",
       "      <td>1</td>\n",
       "    </tr>\n",
       "    <tr>\n",
       "      <th>1</th>\n",
       "      <td>3</td>\n",
       "      <td>100</td>\n",
       "      <td>0</td>\n",
       "      <td>130</td>\n",
       "      <td>1</td>\n",
       "    </tr>\n",
       "    <tr>\n",
       "      <th>2</th>\n",
       "      <td>3</td>\n",
       "      <td>100</td>\n",
       "      <td>0</td>\n",
       "      <td>130</td>\n",
       "      <td>1</td>\n",
       "    </tr>\n",
       "    <tr>\n",
       "      <th>3</th>\n",
       "      <td>3</td>\n",
       "      <td>100</td>\n",
       "      <td>0</td>\n",
       "      <td>130</td>\n",
       "      <td>1</td>\n",
       "    </tr>\n",
       "    <tr>\n",
       "      <th>4</th>\n",
       "      <td>3</td>\n",
       "      <td>100</td>\n",
       "      <td>0</td>\n",
       "      <td>130</td>\n",
       "      <td>1</td>\n",
       "    </tr>\n",
       "  </tbody>\n",
       "</table>\n",
       "</div>"
      ],
      "text/plain": [
       "   Cooler Cond.  Valve Cond.  pump leakage  Hydraulic accm.  stable flag\n",
       "0             3          100             0              130            1\n",
       "1             3          100             0              130            1\n",
       "2             3          100             0              130            1\n",
       "3             3          100             0              130            1\n",
       "4             3          100             0              130            1"
      ]
     },
     "execution_count": 201,
     "metadata": {},
     "output_type": "execute_result"
    }
   ],
   "source": [
    "df_temp=pd.DataFrame(target,columns=target.columns)\n",
    "df_temp.head()"
   ]
  },
  {
   "cell_type": "code",
   "execution_count": 202,
   "metadata": {},
   "outputs": [
    {
     "data": {
      "text/html": [
       "<div>\n",
       "<style scoped>\n",
       "    .dataframe tbody tr th:only-of-type {\n",
       "        vertical-align: middle;\n",
       "    }\n",
       "\n",
       "    .dataframe tbody tr th {\n",
       "        vertical-align: top;\n",
       "    }\n",
       "\n",
       "    .dataframe thead th {\n",
       "        text-align: right;\n",
       "    }\n",
       "</style>\n",
       "<table border=\"1\" class=\"dataframe\">\n",
       "  <thead>\n",
       "    <tr style=\"text-align: right;\">\n",
       "      <th></th>\n",
       "      <th>PS1</th>\n",
       "      <th>PS2</th>\n",
       "      <th>PS3</th>\n",
       "      <th>PS4</th>\n",
       "      <th>PS5</th>\n",
       "      <th>PS6</th>\n",
       "      <th>EPS1</th>\n",
       "      <th>FS1</th>\n",
       "      <th>FS2</th>\n",
       "      <th>TS1</th>\n",
       "      <th>...</th>\n",
       "      <th>TS4</th>\n",
       "      <th>VS1</th>\n",
       "      <th>CE</th>\n",
       "      <th>CP</th>\n",
       "      <th>SE</th>\n",
       "      <th>Cooler Cond.</th>\n",
       "      <th>Valve Cond.</th>\n",
       "      <th>pump leakage</th>\n",
       "      <th>Hydraulic accm.</th>\n",
       "      <th>stable flag</th>\n",
       "    </tr>\n",
       "  </thead>\n",
       "  <tbody>\n",
       "    <tr>\n",
       "      <th>0</th>\n",
       "      <td>160.673492</td>\n",
       "      <td>109.466914</td>\n",
       "      <td>1.991475</td>\n",
       "      <td>0.0</td>\n",
       "      <td>9.842170</td>\n",
       "      <td>9.728097</td>\n",
       "      <td>2538.929167</td>\n",
       "      <td>6.709815</td>\n",
       "      <td>10.304592</td>\n",
       "      <td>35.621983</td>\n",
       "      <td>...</td>\n",
       "      <td>31.745250</td>\n",
       "      <td>0.576950</td>\n",
       "      <td>39.601350</td>\n",
       "      <td>1.862750</td>\n",
       "      <td>59.157183</td>\n",
       "      <td>3</td>\n",
       "      <td>100</td>\n",
       "      <td>0</td>\n",
       "      <td>130</td>\n",
       "      <td>1</td>\n",
       "    </tr>\n",
       "    <tr>\n",
       "      <th>1</th>\n",
       "      <td>160.603320</td>\n",
       "      <td>109.354890</td>\n",
       "      <td>1.976234</td>\n",
       "      <td>0.0</td>\n",
       "      <td>9.635142</td>\n",
       "      <td>9.529488</td>\n",
       "      <td>2531.498900</td>\n",
       "      <td>6.715315</td>\n",
       "      <td>10.403098</td>\n",
       "      <td>36.676967</td>\n",
       "      <td>...</td>\n",
       "      <td>34.493867</td>\n",
       "      <td>0.565850</td>\n",
       "      <td>25.786433</td>\n",
       "      <td>1.255550</td>\n",
       "      <td>59.335617</td>\n",
       "      <td>3</td>\n",
       "      <td>100</td>\n",
       "      <td>0</td>\n",
       "      <td>130</td>\n",
       "      <td>1</td>\n",
       "    </tr>\n",
       "    <tr>\n",
       "      <th>2</th>\n",
       "      <td>160.347720</td>\n",
       "      <td>109.158845</td>\n",
       "      <td>1.972224</td>\n",
       "      <td>0.0</td>\n",
       "      <td>9.530548</td>\n",
       "      <td>9.427949</td>\n",
       "      <td>2519.928000</td>\n",
       "      <td>6.718522</td>\n",
       "      <td>10.366250</td>\n",
       "      <td>37.880800</td>\n",
       "      <td>...</td>\n",
       "      <td>35.646150</td>\n",
       "      <td>0.576533</td>\n",
       "      <td>22.218233</td>\n",
       "      <td>1.113217</td>\n",
       "      <td>59.543150</td>\n",
       "      <td>3</td>\n",
       "      <td>100</td>\n",
       "      <td>0</td>\n",
       "      <td>130</td>\n",
       "      <td>1</td>\n",
       "    </tr>\n",
       "    <tr>\n",
       "      <th>3</th>\n",
       "      <td>160.188088</td>\n",
       "      <td>109.064807</td>\n",
       "      <td>1.946575</td>\n",
       "      <td>0.0</td>\n",
       "      <td>9.438827</td>\n",
       "      <td>9.337430</td>\n",
       "      <td>2511.541633</td>\n",
       "      <td>6.720565</td>\n",
       "      <td>10.302678</td>\n",
       "      <td>38.879050</td>\n",
       "      <td>...</td>\n",
       "      <td>36.579467</td>\n",
       "      <td>0.569267</td>\n",
       "      <td>20.459817</td>\n",
       "      <td>1.062150</td>\n",
       "      <td>59.794900</td>\n",
       "      <td>3</td>\n",
       "      <td>100</td>\n",
       "      <td>0</td>\n",
       "      <td>130</td>\n",
       "      <td>1</td>\n",
       "    </tr>\n",
       "    <tr>\n",
       "      <th>4</th>\n",
       "      <td>160.000472</td>\n",
       "      <td>108.931434</td>\n",
       "      <td>1.922707</td>\n",
       "      <td>0.0</td>\n",
       "      <td>9.358762</td>\n",
       "      <td>9.260636</td>\n",
       "      <td>2503.449500</td>\n",
       "      <td>6.690308</td>\n",
       "      <td>10.237750</td>\n",
       "      <td>39.803917</td>\n",
       "      <td>...</td>\n",
       "      <td>37.427900</td>\n",
       "      <td>0.577367</td>\n",
       "      <td>19.787017</td>\n",
       "      <td>1.070467</td>\n",
       "      <td>59.455267</td>\n",
       "      <td>3</td>\n",
       "      <td>100</td>\n",
       "      <td>0</td>\n",
       "      <td>130</td>\n",
       "      <td>1</td>\n",
       "    </tr>\n",
       "  </tbody>\n",
       "</table>\n",
       "<p>5 rows × 22 columns</p>\n",
       "</div>"
      ],
      "text/plain": [
       "          PS1         PS2       PS3  PS4       PS5       PS6         EPS1  \\\n",
       "0  160.673492  109.466914  1.991475  0.0  9.842170  9.728097  2538.929167   \n",
       "1  160.603320  109.354890  1.976234  0.0  9.635142  9.529488  2531.498900   \n",
       "2  160.347720  109.158845  1.972224  0.0  9.530548  9.427949  2519.928000   \n",
       "3  160.188088  109.064807  1.946575  0.0  9.438827  9.337430  2511.541633   \n",
       "4  160.000472  108.931434  1.922707  0.0  9.358762  9.260636  2503.449500   \n",
       "\n",
       "        FS1        FS2        TS1  ...        TS4       VS1         CE  \\\n",
       "0  6.709815  10.304592  35.621983  ...  31.745250  0.576950  39.601350   \n",
       "1  6.715315  10.403098  36.676967  ...  34.493867  0.565850  25.786433   \n",
       "2  6.718522  10.366250  37.880800  ...  35.646150  0.576533  22.218233   \n",
       "3  6.720565  10.302678  38.879050  ...  36.579467  0.569267  20.459817   \n",
       "4  6.690308  10.237750  39.803917  ...  37.427900  0.577367  19.787017   \n",
       "\n",
       "         CP         SE  Cooler Cond.  Valve Cond.  pump leakage  \\\n",
       "0  1.862750  59.157183             3          100             0   \n",
       "1  1.255550  59.335617             3          100             0   \n",
       "2  1.113217  59.543150             3          100             0   \n",
       "3  1.062150  59.794900             3          100             0   \n",
       "4  1.070467  59.455267             3          100             0   \n",
       "\n",
       "   Hydraulic accm.  stable flag  \n",
       "0              130            1  \n",
       "1              130            1  \n",
       "2              130            1  \n",
       "3              130            1  \n",
       "4              130            1  \n",
       "\n",
       "[5 rows x 22 columns]"
      ]
     },
     "execution_count": 202,
     "metadata": {},
     "output_type": "execute_result"
    }
   ],
   "source": [
    "df_final=pd.concat([df,df_temp],axis=1)\n",
    "df_final.head()"
   ]
  },
  {
   "cell_type": "code",
   "execution_count": 230,
   "metadata": {
    "scrolled": true
   },
   "outputs": [],
   "source": [
    "X = df_final.iloc[:,:-5]\n",
    "y = df_final.iloc[:,-5:]"
   ]
  },
  {
   "cell_type": "markdown",
   "metadata": {},
   "source": [
    "### Cooler condition"
   ]
  },
  {
   "cell_type": "code",
   "execution_count": 231,
   "metadata": {},
   "outputs": [
    {
     "name": "stdout",
     "output_type": "stream",
     "text": [
      "COOLER CONDITIONS\n",
      "Benchmark Classifier\n",
      "F1 score: 0.168432 \n",
      "Area under the ROC Curve: 0.500000.\n",
      "\n",
      "Extra Trees Classifier:\n",
      "F1 score: 0.998489 \n",
      "Area under the ROC: 1.000000.\n",
      " \n",
      "XGB Classifier:\n",
      "Area under the ROC Curve for XGB: 0.998488 \n",
      "F1 score for XBG: 0.998489 \n",
      "\n",
      "Dummy Classifier Success Rate : 33.53%\n"
     ]
    },
    {
     "data": {
      "image/png": "[encoded data removed]",
      "text/plain": [
       "<Figure size 432x288 with 2 Axes>"
      ]
     },
     "metadata": {
      "needs_background": "light"
     },
     "output_type": "display_data"
    },
    {
     "name": "stdout",
     "output_type": "stream",
     "text": [
      "Extra trees Regression Success Rate : 99.85%\n"
     ]
    },
    {
     "data": {
      "image/png": "[encoded data removed]",
      "text/plain": [
       "<Figure size 432x288 with 2 Axes>"
      ]
     },
     "metadata": {
      "needs_background": "light"
     },
     "output_type": "display_data"
    },
    {
     "name": "stdout",
     "output_type": "stream",
     "text": [
      "XBoost Classifier Success Rate : 99.85%\n"
     ]
    },
    {
     "data": {
      "image/png": "[encoded data removed]",
      "text/plain": [
       "<Figure size 432x288 with 2 Axes>"
      ]
     },
     "metadata": {
      "needs_background": "light"
     },
     "output_type": "display_data"
    }
   ],
   "source": [
    "X_train, X_test, y_train, y_test = train_test_split(X, y['Cooler Cond.'], test_size = 0.3, shuffle=True, stratify=y['Cooler Cond.'])\n",
    "scaler = MinMaxScaler()\n",
    "X_train = scaler.fit_transform(X_train)\n",
    "X_test = scaler.transform(X_test)\n",
    "print('COOLER CONDITIONS')\n",
    "#Dummy classfier\n",
    "print('Benchmark Classifier')\n",
    "dummy = DummyClassifier(strategy='prior')\n",
    "dummy.fit(X_train,y_train)\n",
    "y_pred= dummy.predict(X_test)\n",
    "print('F1 score: {:3f} '.format(f1_score(y_test, y_pred, average='weighted')))\n",
    "cv = RepeatedStratifiedKFold(n_splits = 10, n_repeats = 3, random_state = 1)\n",
    "y_pred_proba =dummy.predict_proba(X_test)\n",
    "roc_value =roc_auc_score(y_test,y_pred_proba, multi_class='ovr',average ='weighted')\n",
    "print('Area under the ROC Curve: {:3f}.\\n'.format(roc_value))\n",
    "\n",
    "#ExtratreesClassifier\n",
    "print('Extra Trees Classifier:')\n",
    "et = ExtraTreesClassifier(n_estimators=1000)\n",
    "et.fit(X_train,y_train)\n",
    "y_pred= et.predict(X_test)\n",
    "print('F1 score: {:3f} '.format(f1_score(y_test, y_pred, average='weighted')))\n",
    "cv = RepeatedStratifiedKFold(n_splits = 10, n_repeats = 3, random_state = 1)\n",
    "y_pred_proba =et.predict_proba(X_test)\n",
    "roc_value =roc_auc_score(y_test,y_pred_proba, multi_class='ovr',average ='weighted')\n",
    "print('Area under the ROC: {:3f}.\\n '.format(roc_value))\n",
    "\n",
    "#For XGB\n",
    "print('XGB Classifier:')\n",
    "xgb = XGBClassifier(scale_pos_weight=100)\n",
    "xgb.fit(X_train,y_train)\n",
    "y_pred_proba= xgb.predict_proba(X_test)\n",
    "y_pred= xgb.predict(X_test)\n",
    "cv = RepeatedStratifiedKFold(n_splits = 10, n_repeats = 3, random_state = 1)\n",
    "y_pred_proba = xgb.predict_proba(X_test)\n",
    "roc_value =roc_auc_score(y_test,y_pred_proba, multi_class='ovr',average ='weighted')\n",
    "print('Area under the ROC Curve for XGB: {:3f} '.format(roc_value))\n",
    "print('F1 score for XBG: {:3f} \\n'.format(f1_score(y_test, y_pred, average='weighted')))\n",
    "\n",
    "x_predict=dummy.predict(X_test)\n",
    "s1=accuracy_score(y_test,x_predict)\n",
    "print(\"Dummy Classifier Success Rate :\", \"{:.2f}%\".format(100*s1))\n",
    "plot_confusion_matrix(dummy, X_test, y_test)\n",
    "plt.show()\n",
    "\n",
    "x_predict=et.predict(X_test)\n",
    "s2=accuracy_score(y_test,x_predict)\n",
    "print(\"Extra trees Regression Success Rate :\", \"{:.2f}%\".format(100*s2))\n",
    "plot_confusion_matrix(et, X_test, y_test)\n",
    "plt.show()\n",
    "\n",
    "x_predict = xgb.predict(X_test)\n",
    "s3=accuracy_score(y_test,x_predict)\n",
    "print(\"XBoost Classifier Success Rate :\", \"{:.2f}%\".format(100*s3))\n",
    "plot_confusion_matrix(xgb, X_test, y_test)\n",
    "plt.show()"
   ]
  },
  {
   "cell_type": "markdown",
   "metadata": {},
   "source": [
    "### Valve conditions "
   ]
  },
  {
   "cell_type": "code",
   "execution_count": 232,
   "metadata": {},
   "outputs": [
    {
     "name": "stdout",
     "output_type": "stream",
     "text": [
      "VALVE CONDITIONS\n",
      "Benchmark Classifier\n",
      "F1 score: 0.345148 \n",
      "Area under the ROC Curve: 0.500000.\n",
      "\n",
      "Extra Trees Classifier:\n",
      "F1 score: 0.968383 \n",
      "Area under the ROC: 0.995723.\n",
      " \n",
      "XGB Classifier:\n",
      "Area under the ROC Curve for XGB: 0.980748 \n",
      "F1 score for XBG: 0.905499 \n",
      "\n",
      "Dummy Classifier Success Rate : 51.06%\n"
     ]
    },
    {
     "data": {
      "image/png": "[encoded data removed]",
      "text/plain": [
       "<Figure size 432x288 with 2 Axes>"
      ]
     },
     "metadata": {
      "needs_background": "light"
     },
     "output_type": "display_data"
    },
    {
     "name": "stdout",
     "output_type": "stream",
     "text": [
      "Extra trees Regression Success Rate : 96.83%\n"
     ]
    },
    {
     "data": {
      "image/png": "[encoded data removed]",
      "text/plain": [
       "<Figure size 432x288 with 2 Axes>"
      ]
     },
     "metadata": {
      "needs_background": "light"
     },
     "output_type": "display_data"
    },
    {
     "name": "stdout",
     "output_type": "stream",
     "text": [
      "XBoost Classifier Success Rate : 90.79%\n"
     ]
    },
    {
     "data": {
      "image/png": "[encoded data removed]",
      "text/plain": [
       "<Figure size 432x288 with 2 Axes>"
      ]
     },
     "metadata": {
      "needs_background": "light"
     },
     "output_type": "display_data"
    }
   ],
   "source": [
    "X_train, X_test, y_train, y_test = train_test_split(X, y['Valve Cond.'], test_size = 0.3, shuffle=True, stratify=y['Valve Cond.'])\n",
    "scaler = MinMaxScaler()\n",
    "X_train = scaler.fit_transform(X_train)\n",
    "X_test = scaler.transform(X_test)\n",
    "\n",
    "print('VALVE CONDITIONS')\n",
    "#Dummy classfier\n",
    "print('Benchmark Classifier')\n",
    "dummy = DummyClassifier(strategy='prior')\n",
    "dummy.fit(X_train,y_train)\n",
    "y_pred= dummy.predict(X_test)\n",
    "print('F1 score: {:3f} '.format(f1_score(y_test, y_pred, average='weighted')))\n",
    "cv = RepeatedStratifiedKFold(n_splits = 10, n_repeats = 3, random_state = 1)\n",
    "y_pred_proba =dummy.predict_proba(X_test)\n",
    "roc_value =roc_auc_score(y_test,y_pred_proba, multi_class='ovr',average ='weighted')\n",
    "print('Area under the ROC Curve: {:3f}.\\n'.format(roc_value))\n",
    "\n",
    "#ExtratreesClassifier\n",
    "print('Extra Trees Classifier:')\n",
    "et = ExtraTreesClassifier(n_estimators=1000)\n",
    "et.fit(X_train,y_train)\n",
    "y_pred= et.predict(X_test)\n",
    "print('F1 score: {:3f} '.format(f1_score(y_test, y_pred, average='weighted')))\n",
    "cv = RepeatedStratifiedKFold(n_splits = 10, n_repeats = 3, random_state = 1)\n",
    "y_pred_proba =et.predict_proba(X_test)\n",
    "roc_value =roc_auc_score(y_test,y_pred_proba, multi_class='ovr',average ='weighted')\n",
    "print('Area under the ROC: {:3f}.\\n '.format(roc_value))\n",
    "\n",
    "#For XGB\n",
    "print('XGB Classifier:')\n",
    "xgb = XGBClassifier(scale_pos_weight=100)\n",
    "xgb.fit(X_train,y_train)\n",
    "y_pred_proba= xgb.predict_proba(X_test)\n",
    "y_pred= xgb.predict(X_test)\n",
    "cv = RepeatedStratifiedKFold(n_splits = 10, n_repeats = 3, random_state = 1)\n",
    "y_pred_proba = xgb.predict_proba(X_test)\n",
    "roc_value =roc_auc_score(y_test,y_pred_proba, multi_class='ovr',average ='weighted')\n",
    "print('Area under the ROC Curve for XGB: {:3f} '.format(roc_value))\n",
    "print('F1 score for XBG: {:3f} \\n'.format(f1_score(y_test, y_pred, average='weighted')))\n",
    "\n",
    "x_predict=dummy.predict(X_test)\n",
    "s1=accuracy_score(y_test,x_predict)\n",
    "print(\"Dummy Classifier Success Rate :\", \"{:.2f}%\".format(100*s1))\n",
    "plot_confusion_matrix(dummy, X_test, y_test)\n",
    "plt.show()\n",
    "\n",
    "x_predict=et.predict(X_test)\n",
    "s2=accuracy_score(y_test,x_predict)\n",
    "print(\"Extra trees Regression Success Rate :\", \"{:.2f}%\".format(100*s2))\n",
    "plot_confusion_matrix(et, X_test, y_test)\n",
    "plt.show()\n",
    "\n",
    "x_predict = xgb.predict(X_test)\n",
    "s3=accuracy_score(y_test,x_predict)\n",
    "print(\"XBoost Classifier Success Rate :\", \"{:.2f}%\".format(100*s3))\n",
    "plot_confusion_matrix(xgb, X_test, y_test)\n",
    "plt.show()"
   ]
  },
  {
   "cell_type": "markdown",
   "metadata": {},
   "source": [
    "### Pump leakage"
   ]
  },
  {
   "cell_type": "code",
   "execution_count": 233,
   "metadata": {},
   "outputs": [
    {
     "name": "stdout",
     "output_type": "stream",
     "text": [
      "PUMP LEAKAGE\n",
      "\n",
      "Benchmark Classifier\n",
      "F1 score: 0.393678 \n",
      "Area under the ROC Curve: 0.500000.\n",
      "\n",
      "Extra Trees Classifier:\n",
      "F1 score: 0.998491 \n",
      "Area under the ROC: 0.999964.\n",
      " \n",
      "XGB Classifier:\n",
      "Area under the ROC Curve for XGB: 0.999845 \n",
      "F1 score for XBG: 0.992463 \n",
      "\n",
      "Dummy Classifier Success Rate : 55.29%\n"
     ]
    },
    {
     "data": {
      "image/png": "[encoded data removed]",
      "text/plain": [
       "<Figure size 432x288 with 2 Axes>"
      ]
     },
     "metadata": {
      "needs_background": "light"
     },
     "output_type": "display_data"
    },
    {
     "name": "stdout",
     "output_type": "stream",
     "text": [
      "Extra trees Regression Success Rate : 99.85%\n"
     ]
    },
    {
     "data": {
      "image/png": "[encoded data removed]",
      "text/plain": [
       "<Figure size 432x288 with 2 Axes>"
      ]
     },
     "metadata": {
      "needs_background": "light"
     },
     "output_type": "display_data"
    },
    {
     "name": "stdout",
     "output_type": "stream",
     "text": [
      "XBoost Classifier Success Rate : 99.24%\n"
     ]
    },
    {
     "data": {
      "image/png": "[encoded data removed]",
      "text/plain": [
       "<Figure size 432x288 with 2 Axes>"
      ]
     },
     "metadata": {
      "needs_background": "light"
     },
     "output_type": "display_data"
    }
   ],
   "source": [
    "X_train, X_test, y_train, y_test = train_test_split(X, y['pump leakage'], test_size = 0.3, shuffle=True, stratify=y['pump leakage'])\n",
    "scaler = MinMaxScaler()\n",
    "X_train = scaler.fit_transform(X_train)\n",
    "X_test = scaler.transform(X_test)\n",
    "\n",
    "print('PUMP LEAKAGE\\n')\n",
    "#Dummy classfier\n",
    "print('Benchmark Classifier')\n",
    "dummy = DummyClassifier(strategy='prior')\n",
    "dummy.fit(X_train,y_train)\n",
    "y_pred= dummy.predict(X_test)\n",
    "print('F1 score: {:3f} '.format(f1_score(y_test, y_pred, average='weighted')))\n",
    "cv = RepeatedStratifiedKFold(n_splits = 10, n_repeats = 3, random_state = 1)\n",
    "y_pred_proba =dummy.predict_proba(X_test)\n",
    "roc_value =roc_auc_score(y_test,y_pred_proba, multi_class='ovr',average ='weighted')\n",
    "print('Area under the ROC Curve: {:3f}.\\n'.format(roc_value))\n",
    "\n",
    "#ExtratreesClassifier\n",
    "print('Extra Trees Classifier:')\n",
    "et = ExtraTreesClassifier(n_estimators=1000)\n",
    "et.fit(X_train,y_train)\n",
    "y_pred= et.predict(X_test)\n",
    "print('F1 score: {:3f} '.format(f1_score(y_test, y_pred, average='weighted')))\n",
    "cv = RepeatedStratifiedKFold(n_splits = 10, n_repeats = 3, random_state = 1)\n",
    "y_pred_proba =et.predict_proba(X_test)\n",
    "roc_value =roc_auc_score(y_test,y_pred_proba, multi_class='ovr',average ='weighted')\n",
    "print('Area under the ROC: {:3f}.\\n '.format(roc_value))\n",
    "\n",
    "#For XGB\n",
    "print('XGB Classifier:')\n",
    "xgb = XGBClassifier(scale_pos_weight=100)\n",
    "xgb.fit(X_train,y_train)\n",
    "y_pred_proba= xgb.predict_proba(X_test)\n",
    "y_pred= xgb.predict(X_test)\n",
    "cv = RepeatedStratifiedKFold(n_splits = 10, n_repeats = 3, random_state = 1)\n",
    "y_pred_proba = xgb.predict_proba(X_test)\n",
    "roc_value =roc_auc_score(y_test,y_pred_proba, multi_class='ovr',average ='weighted')\n",
    "print('Area under the ROC Curve for XGB: {:3f} '.format(roc_value))\n",
    "print('F1 score for XBG: {:3f} \\n'.format(f1_score(y_test, y_pred, average='weighted')))\n",
    "\n",
    "x_predict=dummy.predict(X_test)\n",
    "s1=accuracy_score(y_test,x_predict)\n",
    "print(\"Dummy Classifier Success Rate :\", \"{:.2f}%\".format(100*s1))\n",
    "plot_confusion_matrix(dummy, X_test, y_test)\n",
    "plt.show()\n",
    "\n",
    "x_predict=et.predict(X_test)\n",
    "s2=accuracy_score(y_test,x_predict)\n",
    "print(\"Extra trees Regression Success Rate :\", \"{:.2f}%\".format(100*s2))\n",
    "plot_confusion_matrix(et, X_test, y_test)\n",
    "plt.show()\n",
    "\n",
    "x_predict = xgb.predict(X_test)\n",
    "s3=accuracy_score(y_test,x_predict)\n",
    "print(\"XBoost Classifier Success Rate :\", \"{:.2f}%\".format(100*s3))\n",
    "plot_confusion_matrix(xgb, X_test, y_test)\n",
    "plt.show()"
   ]
  },
  {
   "cell_type": "markdown",
   "metadata": {},
   "source": [
    "### Hydraulic accm."
   ]
  },
  {
   "cell_type": "code",
   "execution_count": 234,
   "metadata": {},
   "outputs": [
    {
     "name": "stdout",
     "output_type": "stream",
     "text": [
      "HYDRAULIC ACCM.\n",
      "Benchmark Classifier\n",
      "F1 score: 0.195720 \n",
      "Area under the ROC Curve: 0.500000.\n",
      "\n",
      "Extra Trees Classifier:\n",
      "F1 score: 0.984944 \n",
      "Area under the ROC: 0.999637.\n",
      " \n",
      "XGB Classifier:\n",
      "Area under the ROC Curve for XGB: 0.996634 \n",
      "F1 score for XBG: 0.951915 \n",
      "\n",
      "Dummy Classifier Success Rate : 36.56%\n"
     ]
    },
    {
     "data": {
      "image/png": "[encoded data removed]",
      "text/plain": [
       "<Figure size 432x288 with 2 Axes>"
      ]
     },
     "metadata": {
      "needs_background": "light"
     },
     "output_type": "display_data"
    },
    {
     "name": "stdout",
     "output_type": "stream",
     "text": [
      "Extra trees Regression Success Rate : 98.49%\n"
     ]
    },
    {
     "data": {
      "image/png": "[encoded data removed]",
      "text/plain": [
       "<Figure size 432x288 with 2 Axes>"
      ]
     },
     "metadata": {
      "needs_background": "light"
     },
     "output_type": "display_data"
    },
    {
     "name": "stdout",
     "output_type": "stream",
     "text": [
      "XBoost Classifier Success Rate : 95.17%\n"
     ]
    },
    {
     "data": {
      "image/png": "[encoded data removed]",
      "text/plain": [
       "<Figure size 432x288 with 2 Axes>"
      ]
     },
     "metadata": {
      "needs_background": "light"
     },
     "output_type": "display_data"
    }
   ],
   "source": [
    "X_train, X_test, y_train, y_test = train_test_split(X, y['Hydraulic accm.'], test_size = 0.3, shuffle=True, stratify=y['Hydraulic accm.'])\n",
    "scaler = MinMaxScaler()\n",
    "X_train = scaler.fit_transform(X_train)\n",
    "X_test = scaler.transform(X_test)\n",
    "\n",
    "print('HYDRAULIC ACCM.')\n",
    "#Dummy classfier\n",
    "print('Benchmark Classifier')\n",
    "dummy = DummyClassifier(strategy='prior')\n",
    "dummy.fit(X_train,y_train)\n",
    "y_pred= dummy.predict(X_test)\n",
    "print('F1 score: {:3f} '.format(f1_score(y_test, y_pred, average='weighted')))\n",
    "cv = RepeatedStratifiedKFold(n_splits = 10, n_repeats = 3, random_state = 1)\n",
    "y_pred_proba =dummy.predict_proba(X_test)\n",
    "roc_value =roc_auc_score(y_test,y_pred_proba, multi_class='ovr',average ='weighted')\n",
    "print('Area under the ROC Curve: {:3f}.\\n'.format(roc_value))\n",
    "\n",
    "#ExtratreesClassifier\n",
    "print('Extra Trees Classifier:')\n",
    "et = ExtraTreesClassifier(n_estimators=1000)\n",
    "et.fit(X_train,y_train)\n",
    "y_pred= et.predict(X_test)\n",
    "print('F1 score: {:3f} '.format(f1_score(y_test, y_pred, average='weighted')))\n",
    "cv = RepeatedStratifiedKFold(n_splits = 10, n_repeats = 3, random_state = 1)\n",
    "y_pred_proba =et.predict_proba(X_test)\n",
    "roc_value =roc_auc_score(y_test,y_pred_proba, multi_class='ovr',average ='weighted')\n",
    "print('Area under the ROC: {:3f}.\\n '.format(roc_value))\n",
    "\n",
    "#For XGB\n",
    "print('XGB Classifier:')\n",
    "xgb = XGBClassifier(scale_pos_weight=100)\n",
    "xgb.fit(X_train,y_train)\n",
    "y_pred_proba= xgb.predict_proba(X_test)\n",
    "y_pred= xgb.predict(X_test)\n",
    "cv = RepeatedStratifiedKFold(n_splits = 10, n_repeats = 3, random_state = 1)\n",
    "y_pred_proba = xgb.predict_proba(X_test)\n",
    "roc_value =roc_auc_score(y_test,y_pred_proba, multi_class='ovr',average ='weighted')\n",
    "print('Area under the ROC Curve for XGB: {:3f} '.format(roc_value))\n",
    "print('F1 score for XBG: {:3f} \\n'.format(f1_score(y_test, y_pred, average='weighted')))\n",
    "\n",
    "x_predict=dummy.predict(X_test)\n",
    "s1=accuracy_score(y_test,x_predict)\n",
    "print(\"Dummy Classifier Success Rate :\", \"{:.2f}%\".format(100*s1))\n",
    "plot_confusion_matrix(dummy, X_test, y_test)\n",
    "plt.show()\n",
    "\n",
    "x_predict=et.predict(X_test)\n",
    "s2=accuracy_score(y_test,x_predict)\n",
    "print(\"Extra trees Regression Success Rate :\", \"{:.2f}%\".format(100*s2))\n",
    "plot_confusion_matrix(et, X_test, y_test)\n",
    "plt.show()\n",
    "\n",
    "x_predict = xgb.predict(X_test)\n",
    "s3=accuracy_score(y_test,x_predict)\n",
    "print(\"XBoost Classifier Success Rate :\", \"{:.2f}%\".format(100*s3))\n",
    "plot_confusion_matrix(xgb, X_test, y_test)\n",
    "plt.show()"
   ]
  }
 ],
 "metadata": {
  "kernelspec": {
   "display_name": "Python 3",
   "language": "python",
   "name": "python3"
  },
  "language_info": {
   "codemirror_mode": {
    "name": "ipython",
    "version": 3
   },
   "file_extension": ".py",
   "mimetype": "text/x-python",
   "name": "python",
   "nbconvert_exporter": "python",
   "pygments_lexer": "ipython3",
   "version": "3.7.7"
  }
 },
 "nbformat": 4,
 "nbformat_minor": 4
}
