{
 "cells": [
  {
   "cell_type": "markdown",
   "metadata": {},
   "source": [
    "### Default of credit card clients dataset"
   ]
  },
  {
   "cell_type": "markdown",
   "metadata": {},
   "source": [
    "This research employed a binary variable, default payment (Yes = 1, No = 0), as the response variable. This study reviewed the literature and used the following 23 variables as explanatory variables:\n",
    "X1: Amount of the given credit (NT dollar): it includes both the individual consumer credit and his/her family (supplementary) credit.\n",
    "X2: Gender (1 = male; 2 = female).\n",
    "X3: Education (1 = graduate school; 2 = university; 3 = high school; 4 = others).\n",
    "X4: Marital status (1 = married; 2 = single; 3 = others).\n",
    "X5: Age (year).\n",
    "X6 - X11: History of past payment. We tracked the past monthly payment records (from April to September, 2005) as follows: X6 = the repayment status in September, 2005; X7 = the repayment status in August, 2005; . . .;X11 = the repayment status in April, 2005. The measurement scale for the repayment status is: -1 = pay duly; 1 = payment delay for one month; 2 = payment delay for two months; . . .; 8 = payment delay for eight months; 9 = payment delay for nine months and above.\n",
    "X12-X17: Amount of bill statement (NT dollar). X12 = amount of bill statement in September, 2005; X13 = amount of bill statement in August, 2005; . . .; X17 = amount of bill statement in April, 2005.\n",
    "X18-X23: Amount of previous payment (NT dollar). X18 = amount paid in September, 2005; X19 = amount paid in August, 2005; . . .;X23 = amount paid in April, 2005.\n",
    "\n",
    "Citation Request:\n",
    "Yeh, I. C., & Lien, C. H. (2009). The comparisons of data mining techniques for the predictive accuracy of probability of default of credit card clients. Expert Systems with Applications, 36(2), 2473-2480."
   ]
  },
  {
   "cell_type": "code",
   "execution_count": 681,
   "metadata": {},
   "outputs": [],
   "source": [
    "import pandas as pd\n",
    "import matplotlib.pyplot as plt\n",
    "import numpy as np\n",
    "import seaborn as sns\n",
    "from collections import Counter\n",
    "from sklearn.preprocessing import OneHotEncoder\n",
    "from sklearn.preprocessing import OrdinalEncoder\n",
    "from imblearn.over_sampling import SMOTENC\n",
    "from sklearn.model_selection import train_test_split"
   ]
  },
  {
   "cell_type": "code",
   "execution_count": 682,
   "metadata": {},
   "outputs": [],
   "source": [
    "from sklearn.dummy import DummyClassifier\n",
    "from sklearn.ensemble import RandomForestClassifier\n",
    "from sklearn.ensemble import ExtraTreesClassifier\n",
    "from xgboost import XGBClassifier"
   ]
  },
  {
   "cell_type": "code",
   "execution_count": 683,
   "metadata": {},
   "outputs": [],
   "source": [
    "from sklearn.metrics import f1_score\n",
    "from sklearn.metrics import roc_auc_score"
   ]
  },
  {
   "cell_type": "code",
   "execution_count": 684,
   "metadata": {},
   "outputs": [
    {
     "data": {
      "text/html": [
       "<div>\n",
       "<style scoped>\n",
       "    .dataframe tbody tr th:only-of-type {\n",
       "        vertical-align: middle;\n",
       "    }\n",
       "\n",
       "    .dataframe tbody tr th {\n",
       "        vertical-align: top;\n",
       "    }\n",
       "\n",
       "    .dataframe thead th {\n",
       "        text-align: right;\n",
       "    }\n",
       "</style>\n",
       "<table border=\"1\" class=\"dataframe\">\n",
       "  <thead>\n",
       "    <tr style=\"text-align: right;\">\n",
       "      <th></th>\n",
       "      <th>Unnamed: 0</th>\n",
       "      <th>X1</th>\n",
       "      <th>X2</th>\n",
       "      <th>X3</th>\n",
       "      <th>X4</th>\n",
       "      <th>X5</th>\n",
       "      <th>X6</th>\n",
       "      <th>X7</th>\n",
       "      <th>X8</th>\n",
       "      <th>X9</th>\n",
       "      <th>...</th>\n",
       "      <th>X15</th>\n",
       "      <th>X16</th>\n",
       "      <th>X17</th>\n",
       "      <th>X18</th>\n",
       "      <th>X19</th>\n",
       "      <th>X20</th>\n",
       "      <th>X21</th>\n",
       "      <th>X22</th>\n",
       "      <th>X23</th>\n",
       "      <th>Y</th>\n",
       "    </tr>\n",
       "  </thead>\n",
       "  <tbody>\n",
       "    <tr>\n",
       "      <th>0</th>\n",
       "      <td>ID</td>\n",
       "      <td>LIMIT_BAL</td>\n",
       "      <td>SEX</td>\n",
       "      <td>EDUCATION</td>\n",
       "      <td>MARRIAGE</td>\n",
       "      <td>AGE</td>\n",
       "      <td>PAY_0</td>\n",
       "      <td>PAY_2</td>\n",
       "      <td>PAY_3</td>\n",
       "      <td>PAY_4</td>\n",
       "      <td>...</td>\n",
       "      <td>BILL_AMT4</td>\n",
       "      <td>BILL_AMT5</td>\n",
       "      <td>BILL_AMT6</td>\n",
       "      <td>PAY_AMT1</td>\n",
       "      <td>PAY_AMT2</td>\n",
       "      <td>PAY_AMT3</td>\n",
       "      <td>PAY_AMT4</td>\n",
       "      <td>PAY_AMT5</td>\n",
       "      <td>PAY_AMT6</td>\n",
       "      <td>default payment next month</td>\n",
       "    </tr>\n",
       "    <tr>\n",
       "      <th>1</th>\n",
       "      <td>1</td>\n",
       "      <td>20000</td>\n",
       "      <td>2</td>\n",
       "      <td>2</td>\n",
       "      <td>1</td>\n",
       "      <td>24</td>\n",
       "      <td>2</td>\n",
       "      <td>2</td>\n",
       "      <td>-1</td>\n",
       "      <td>-1</td>\n",
       "      <td>...</td>\n",
       "      <td>0</td>\n",
       "      <td>0</td>\n",
       "      <td>0</td>\n",
       "      <td>0</td>\n",
       "      <td>689</td>\n",
       "      <td>0</td>\n",
       "      <td>0</td>\n",
       "      <td>0</td>\n",
       "      <td>0</td>\n",
       "      <td>1</td>\n",
       "    </tr>\n",
       "    <tr>\n",
       "      <th>2</th>\n",
       "      <td>2</td>\n",
       "      <td>120000</td>\n",
       "      <td>2</td>\n",
       "      <td>2</td>\n",
       "      <td>2</td>\n",
       "      <td>26</td>\n",
       "      <td>-1</td>\n",
       "      <td>2</td>\n",
       "      <td>0</td>\n",
       "      <td>0</td>\n",
       "      <td>...</td>\n",
       "      <td>3272</td>\n",
       "      <td>3455</td>\n",
       "      <td>3261</td>\n",
       "      <td>0</td>\n",
       "      <td>1000</td>\n",
       "      <td>1000</td>\n",
       "      <td>1000</td>\n",
       "      <td>0</td>\n",
       "      <td>2000</td>\n",
       "      <td>1</td>\n",
       "    </tr>\n",
       "    <tr>\n",
       "      <th>3</th>\n",
       "      <td>3</td>\n",
       "      <td>90000</td>\n",
       "      <td>2</td>\n",
       "      <td>2</td>\n",
       "      <td>2</td>\n",
       "      <td>34</td>\n",
       "      <td>0</td>\n",
       "      <td>0</td>\n",
       "      <td>0</td>\n",
       "      <td>0</td>\n",
       "      <td>...</td>\n",
       "      <td>14331</td>\n",
       "      <td>14948</td>\n",
       "      <td>15549</td>\n",
       "      <td>1518</td>\n",
       "      <td>1500</td>\n",
       "      <td>1000</td>\n",
       "      <td>1000</td>\n",
       "      <td>1000</td>\n",
       "      <td>5000</td>\n",
       "      <td>0</td>\n",
       "    </tr>\n",
       "    <tr>\n",
       "      <th>4</th>\n",
       "      <td>4</td>\n",
       "      <td>50000</td>\n",
       "      <td>2</td>\n",
       "      <td>2</td>\n",
       "      <td>1</td>\n",
       "      <td>37</td>\n",
       "      <td>0</td>\n",
       "      <td>0</td>\n",
       "      <td>0</td>\n",
       "      <td>0</td>\n",
       "      <td>...</td>\n",
       "      <td>28314</td>\n",
       "      <td>28959</td>\n",
       "      <td>29547</td>\n",
       "      <td>2000</td>\n",
       "      <td>2019</td>\n",
       "      <td>1200</td>\n",
       "      <td>1100</td>\n",
       "      <td>1069</td>\n",
       "      <td>1000</td>\n",
       "      <td>0</td>\n",
       "    </tr>\n",
       "  </tbody>\n",
       "</table>\n",
       "<p>5 rows × 25 columns</p>\n",
       "</div>"
      ],
      "text/plain": [
       "  Unnamed: 0         X1   X2         X3        X4   X5     X6     X7     X8  \\\n",
       "0         ID  LIMIT_BAL  SEX  EDUCATION  MARRIAGE  AGE  PAY_0  PAY_2  PAY_3   \n",
       "1          1      20000    2          2         1   24      2      2     -1   \n",
       "2          2     120000    2          2         2   26     -1      2      0   \n",
       "3          3      90000    2          2         2   34      0      0      0   \n",
       "4          4      50000    2          2         1   37      0      0      0   \n",
       "\n",
       "      X9  ...        X15        X16        X17       X18       X19       X20  \\\n",
       "0  PAY_4  ...  BILL_AMT4  BILL_AMT5  BILL_AMT6  PAY_AMT1  PAY_AMT2  PAY_AMT3   \n",
       "1     -1  ...          0          0          0         0       689         0   \n",
       "2      0  ...       3272       3455       3261         0      1000      1000   \n",
       "3      0  ...      14331      14948      15549      1518      1500      1000   \n",
       "4      0  ...      28314      28959      29547      2000      2019      1200   \n",
       "\n",
       "        X21       X22       X23                           Y  \n",
       "0  PAY_AMT4  PAY_AMT5  PAY_AMT6  default payment next month  \n",
       "1         0         0         0                           1  \n",
       "2      1000         0      2000                           1  \n",
       "3      1000      1000      5000                           0  \n",
       "4      1100      1069      1000                           0  \n",
       "\n",
       "[5 rows x 25 columns]"
      ]
     },
     "execution_count": 684,
     "metadata": {},
     "output_type": "execute_result"
    }
   ],
   "source": [
    "dataset = pd.read_excel(r'E:\\Data\\credit_card_clients\\default_of_credit_card_clients.xls')\n",
    "dataset.head()"
   ]
  },
  {
   "cell_type": "code",
   "execution_count": 685,
   "metadata": {},
   "outputs": [],
   "source": [
    "clients = dataset.copy()\n",
    "clients.drop('Unnamed: 0', axis =1, inplace = True)\n",
    "columnNames = clients.iloc[0,:]\n",
    "clients.set_axis(columnNames, axis=1, inplace = True)\n",
    "clients = clients.iloc[1:,:]"
   ]
  },
  {
   "cell_type": "code",
   "execution_count": 687,
   "metadata": {},
   "outputs": [
    {
     "name": "stdout",
     "output_type": "stream",
     "text": [
      "(30000, 24)\n",
      "<class 'pandas.core.frame.DataFrame'>\n",
      "RangeIndex: 30000 entries, 1 to 30000\n",
      "Data columns (total 24 columns):\n",
      " #   Column                      Non-Null Count  Dtype \n",
      "---  ------                      --------------  ----- \n",
      " 0   LIMIT_BAL                   30000 non-null  object\n",
      " 1   SEX                         30000 non-null  object\n",
      " 2   EDUCATION                   30000 non-null  object\n",
      " 3   MARRIAGE                    30000 non-null  object\n",
      " 4   AGE                         30000 non-null  object\n",
      " 5   PAY_0                       30000 non-null  object\n",
      " 6   PAY_2                       30000 non-null  object\n",
      " 7   PAY_3                       30000 non-null  object\n",
      " 8   PAY_4                       30000 non-null  object\n",
      " 9   PAY_5                       30000 non-null  object\n",
      " 10  PAY_6                       30000 non-null  object\n",
      " 11  BILL_AMT1                   30000 non-null  object\n",
      " 12  BILL_AMT2                   30000 non-null  object\n",
      " 13  BILL_AMT3                   30000 non-null  object\n",
      " 14  BILL_AMT4                   30000 non-null  object\n",
      " 15  BILL_AMT5                   30000 non-null  object\n",
      " 16  BILL_AMT6                   30000 non-null  object\n",
      " 17  PAY_AMT1                    30000 non-null  object\n",
      " 18  PAY_AMT2                    30000 non-null  object\n",
      " 19  PAY_AMT3                    30000 non-null  object\n",
      " 20  PAY_AMT4                    30000 non-null  object\n",
      " 21  PAY_AMT5                    30000 non-null  object\n",
      " 22  PAY_AMT6                    30000 non-null  object\n",
      " 23  default payment next month  30000 non-null  object\n",
      "dtypes: object(24)\n",
      "memory usage: 5.5+ MB\n"
     ]
    }
   ],
   "source": [
    "print(clients.shape)\n",
    "clients.info()"
   ]
  },
  {
   "cell_type": "code",
   "execution_count": 688,
   "metadata": {},
   "outputs": [],
   "source": [
    "clients = clients.iloc[:,:].astype('int')\n",
    "clients = clients.rename(columns={'default payment next month': 'PAYED'})"
   ]
  },
  {
   "cell_type": "code",
   "execution_count": 690,
   "metadata": {},
   "outputs": [
    {
     "data": {
      "text/plain": [
       "2    18112\n",
       "1    11888\n",
       "Name: SEX, dtype: int64"
      ]
     },
     "execution_count": 690,
     "metadata": {},
     "output_type": "execute_result"
    }
   ],
   "source": [
    "#Gender (1 = male; 2 = female)\n",
    "clients['SEX'].value_counts()"
   ]
  },
  {
   "cell_type": "code",
   "execution_count": 691,
   "metadata": {},
   "outputs": [
    {
     "data": {
      "text/plain": [
       "2    14030\n",
       "1    10585\n",
       "3     4917\n",
       "5      280\n",
       "4      123\n",
       "6       51\n",
       "0       14\n",
       "Name: EDUCATION, dtype: int64"
      ]
     },
     "execution_count": 691,
     "metadata": {},
     "output_type": "execute_result"
    }
   ],
   "source": [
    "#Education (1 = graduate school; 2 = university; 3 = high school; 4 = others)\n",
    "clients['EDUCATION'].value_counts()"
   ]
  },
  {
   "cell_type": "code",
   "execution_count": 692,
   "metadata": {},
   "outputs": [
    {
     "data": {
      "text/plain": [
       "2    15964\n",
       "1    13659\n",
       "3      323\n",
       "0       54\n",
       "Name: MARRIAGE, dtype: int64"
      ]
     },
     "execution_count": 692,
     "metadata": {},
     "output_type": "execute_result"
    }
   ],
   "source": [
    "#Marital status (1 = married; 2 = single; 3 = others).\n",
    "clients['MARRIAGE'].value_counts()"
   ]
  },
  {
   "cell_type": "code",
   "execution_count": 693,
   "metadata": {},
   "outputs": [
    {
     "data": {
      "text/plain": [
       "(29946, 24)"
      ]
     },
     "execution_count": 693,
     "metadata": {},
     "output_type": "execute_result"
    }
   ],
   "source": [
    "#removing wrong values of marriage and education columns.\n",
    "clients.drop(clients.index[clients['MARRIAGE'] == 0], inplace = True)\n",
    "clients.shape"
   ]
  },
  {
   "cell_type": "code",
   "execution_count": 694,
   "metadata": {},
   "outputs": [
    {
     "name": "stdout",
     "output_type": "stream",
     "text": [
      "2    15964\n",
      "1    13659\n",
      "3      323\n",
      "Name: MARRIAGE, dtype: int64\n"
     ]
    }
   ],
   "source": [
    "print(clients['MARRIAGE'].value_counts())"
   ]
  },
  {
   "cell_type": "code",
   "execution_count": 695,
   "metadata": {},
   "outputs": [],
   "source": [
    "dict1 =  {1: 'married', 2: 'single', 3: 'other'}\n",
    "clients['MARRIAGE'] = clients['MARRIAGE'].map(dict1)\n",
    "\n",
    "dict2 = {0: 'others', 1:'graduate school', 2: 'university', 3: 'high school', 4:'others', 5:'unknown', 6:'unknown'}\n",
    "clients['EDUCATION']  =clients['EDUCATION'].map(dict2) \n",
    "\n",
    "dict3 = {1: 'Male', 2:'Female'}\n",
    "clients['SEX']  =clients['SEX'].map(dict3)"
   ]
  },
  {
   "cell_type": "code",
   "execution_count": 696,
   "metadata": {},
   "outputs": [
    {
     "name": "stdout",
     "output_type": "stream",
     "text": [
      "single     15964\n",
      "married    13659\n",
      "other        323\n",
      "Name: MARRIAGE, dtype: int64\n",
      "university         14024\n",
      "graduate school    10581\n",
      "high school         4873\n",
      "unknown              331\n",
      "others               137\n",
      "Name: EDUCATION, dtype: int64\n",
      "Female    18072\n",
      "Male      11874\n",
      "Name: SEX, dtype: int64\n"
     ]
    }
   ],
   "source": [
    "print(clients['MARRIAGE'].value_counts())\n",
    "print(clients['EDUCATION'].value_counts())\n",
    "print(clients['SEX'].value_counts())"
   ]
  },
  {
   "cell_type": "code",
   "execution_count": 697,
   "metadata": {},
   "outputs": [
    {
     "name": "stdout",
     "output_type": "stream",
     "text": [
      "(29946, 24)\n",
      "Class=1, Count=6631, Percentage=22.143%\n",
      "Class=0, Count=23315, Percentage=77.857%\n"
     ]
    }
   ],
   "source": [
    "# summarize the shape of the dataset\n",
    "print(clients.shape)\n",
    "# summarize the class distribution\n",
    "target = clients.values[:,-1]\n",
    "counter = Counter(target)\n",
    "for k,v in counter.items():\n",
    "    per = v / len(target) * 100\n",
    "    print('Class=%d, Count=%d, Percentage=%.3f%%' % (k, v, per))"
   ]
  },
  {
   "cell_type": "code",
   "execution_count": 698,
   "metadata": {},
   "outputs": [],
   "source": [
    "clients['DECADE'] = pd.cut(x = clients['AGE'], bins=[20, 29, 39, 49,59,69,79], labels=['20s', '30s', '40s', '50s','60s', '70s'])"
   ]
  },
  {
   "cell_type": "code",
   "execution_count": 700,
   "metadata": {},
   "outputs": [],
   "source": [
    "cat_columns = clients.select_dtypes(include=['object']).columns\n",
    "clients[cat_columns] =clients[cat_columns].astype('category')"
   ]
  },
  {
   "cell_type": "code",
   "execution_count": 701,
   "metadata": {},
   "outputs": [],
   "source": [
    "ordColumns= clients.iloc[:,5:10].columns\n",
    "cat_columns = clients.select_dtypes(include=['category']).columns"
   ]
  },
  {
   "cell_type": "code",
   "execution_count": 756,
   "metadata": {},
   "outputs": [],
   "source": [
    "df = clients.copy()\n",
    "y= df['PAYED']\n",
    "df.drop('PAYED', axis = 1, inplace = True)\n",
    "X = df.copy()\n",
    "\n",
    "X_train, X_test, y_train, y_test = train_test_split(X, y, test_size=0.3,shuffle= True, stratify=y)\n",
    "\n",
    "# Make copy to avoid changing original data \n",
    "label_X_train = X_train.copy()\n",
    "label_X_test = X_test.copy()\n",
    "\n",
    "#balance training data\n",
    "smote_nc = SMOTENC(categorical_features=[1,2,3,23], random_state=0)\n",
    "X_resampled, y_resampled = smote_nc.fit_resample(label_X_train, y_train)\n",
    "\n",
    "#Ordinal feature encoding\n",
    "ordinal_encoder = OrdinalEncoder()\n",
    "X_resampled[ordColumns]  = ordinal_encoder.fit_transform(X_resampled[ordColumns])\n",
    "label_X_test[ordColumns] = ordinal_encoder.transform(label_X_test[ordColumns])"
   ]
  },
  {
   "cell_type": "code",
   "execution_count": 757,
   "metadata": {},
   "outputs": [],
   "source": [
    "#One hot enconding\n",
    "OH_encoder = OneHotEncoder(handle_unknown='ignore', sparse=False)\n",
    "OH_cols_train = pd.DataFrame(OH_encoder.fit_transform(X_resampled[cat_columns]))\n",
    "OH_cols_test = pd.DataFrame(OH_encoder.transform(label_X_test[cat_columns]))"
   ]
  },
  {
   "cell_type": "code",
   "execution_count": 758,
   "metadata": {},
   "outputs": [],
   "source": [
    "#remove categorical features\n",
    "X_resampled.drop('SEX', axis = 1, inplace = True)\n",
    "X_resampled.drop('EDUCATION', axis = 1, inplace = True)\n",
    "X_resampled.drop('MARRIAGE', axis = 1, inplace = True)\n",
    "X_resampled.drop('DECADE', axis = 1, inplace = True)\n",
    "X_resampled.drop('AGE', axis = 1, inplace = True)\n",
    "\n",
    "label_X_test.drop('SEX', axis = 1, inplace = True)\n",
    "label_X_test.drop('EDUCATION', axis = 1, inplace = True)\n",
    "label_X_test.drop('MARRIAGE', axis = 1, inplace = True)\n",
    "label_X_test.drop('DECADE', axis = 1, inplace = True)\n",
    "label_X_test.drop('AGE', axis = 1, inplace = True)"
   ]
  },
  {
   "cell_type": "code",
   "execution_count": 759,
   "metadata": {},
   "outputs": [],
   "source": [
    "X_train_full = pd.concat([X_resampled, OH_cols_train], axis=1)\n",
    "X_test_full = pd.concat([label_X_test.reset_index(), OH_cols_test], axis=1)\n",
    "X_test_full.drop('index', axis = 1, inplace = True)"
   ]
  },
  {
   "cell_type": "code",
   "execution_count": 760,
   "metadata": {},
   "outputs": [
    {
     "name": "stdout",
     "output_type": "stream",
     "text": [
      "F1 score for DummyClassifier: 0.681689 \n"
     ]
    }
   ],
   "source": [
    "#benchmark\n",
    "dummy = DummyClassifier(strategy='prior')\n",
    "dummy.fit(X_train_full,y_resampled)\n",
    "y_pred= dummy.predict(X_test_full)\n",
    "print('F1 score for DummyClassifier: {:2f} '.format(f1_score(y_test, y_pred, average='weighted')))"
   ]
  },
  {
   "cell_type": "code",
   "execution_count": 768,
   "metadata": {},
   "outputs": [
    {
     "name": "stdout",
     "output_type": "stream",
     "text": [
      "F1 score for Randon Forest classifier: 0.787573 \n"
     ]
    }
   ],
   "source": [
    "RF = RandomForestClassifier(n_estimators = 1000)\n",
    "RF.fit(X_train_full,y_resampled)\n",
    "y_pred= RF.predict(X_test_full)\n",
    "print('F1 score for Randon Forest classifier: {:2f} '.format(f1_score(y_test, y_pred, average = 'weighted')))"
   ]
  },
  {
   "cell_type": "code",
   "execution_count": 722,
   "metadata": {},
   "outputs": [
    {
     "name": "stdout",
     "output_type": "stream",
     "text": [
      "F1 score for Extra Trees Classifier: 0.768839 \n"
     ]
    }
   ],
   "source": [
    "ET = ExtraTreesClassifier(n_estimators = 1000)\n",
    "ET.fit(X_train_full,y_resampled)\n",
    "y_pred = ET.predict(X_test_full)\n",
    "print('F1 score for Extra Trees Classifier: {:2f} '.format(f1_score(y_test, y_pred, average='weighted')))"
   ]
  },
  {
   "cell_type": "code",
   "execution_count": 723,
   "metadata": {},
   "outputs": [
    {
     "name": "stdout",
     "output_type": "stream",
     "text": [
      "F1 score for XGBClassifier classifier: 0.777417 \n"
     ]
    }
   ],
   "source": [
    "#For XGB\n",
    "XGB = XGBClassifier()\n",
    "XGB.fit(X_train_full,y_resampled)\n",
    "y_pred = XGB.predict(X_test_full)\n",
    "print('F1 score for XGBClassifier classifier: {:2f} '.format(f1_score(y_test, y_pred, average='weighted')))"
   ]
  },
  {
   "cell_type": "code",
   "execution_count": 769,
   "metadata": {},
   "outputs": [
    {
     "name": "stdout",
     "output_type": "stream",
     "text": [
      "Feature: 0, Score: 0.0633\n",
      "Feature: 1, Score: 0.0764\n",
      "Feature: 2, Score: 0.0556\n",
      "Feature: 3, Score: 0.0367\n",
      "Feature: 4, Score: 0.0287\n",
      "Feature: 5, Score: 0.0251\n",
      "Feature: 6, Score: 0.0215\n",
      "Feature: 7, Score: 0.0607\n",
      "Feature: 8, Score: 0.0529\n",
      "Feature: 9, Score: 0.0495\n",
      "Feature: 10, Score: 0.0470\n",
      "Feature: 11, Score: 0.0464\n",
      "Feature: 12, Score: 0.0461\n",
      "Feature: 13, Score: 0.0608\n",
      "Feature: 14, Score: 0.0532\n",
      "Feature: 15, Score: 0.0502\n",
      "Feature: 16, Score: 0.0464\n",
      "Feature: 17, Score: 0.0452\n",
      "Feature: 18, Score: 0.0476\n",
      "Feature: 19, Score: 0.0080\n",
      "Feature: 20, Score: 0.0080\n",
      "Feature: 21, Score: 0.0073\n",
      "Feature: 22, Score: 0.0062\n",
      "Feature: 23, Score: 0.0004\n",
      "Feature: 24, Score: 0.0099\n",
      "Feature: 25, Score: 0.0012\n",
      "Feature: 26, Score: 0.0078\n",
      "Feature: 27, Score: 0.0009\n",
      "Feature: 28, Score: 0.0076\n",
      "Feature: 29, Score: 0.0079\n",
      "Feature: 30, Score: 0.0084\n",
      "Feature: 31, Score: 0.0071\n",
      "Feature: 32, Score: 0.0046\n",
      "Feature: 33, Score: 0.0010\n",
      "Feature: 34, Score: 0.0001\n"
     ]
    },
    {
     "data": {
      "image/png": "[encoded data removed]",
      "text/plain": [
       "<Figure size 432x288 with 1 Axes>"
      ]
     },
     "metadata": {
      "needs_background": "light"
     },
     "output_type": "display_data"
    }
   ],
   "source": [
    "#Feature selection for Random Forest Classifier \n",
    "importance = RF.feature_importances_\n",
    "# summarize feature importance\n",
    "for i,v in enumerate(importance):\n",
    "\tprint('Feature: {}, Score: {:.4f}'.format(i,v))\n",
    "# plot feature importance\n",
    "plt.bar([x for x in range(len(importance))], importance)\n",
    "plt.show()"
   ]
  },
  {
   "cell_type": "code",
   "execution_count": 815,
   "metadata": {},
   "outputs": [],
   "source": [
    "#Feature selection\n",
    "X_train_reduced = X_train_full.copy()\n",
    "X_test_reduced = X_test_full.copy()"
   ]
  },
  {
   "cell_type": "code",
   "execution_count": 816,
   "metadata": {},
   "outputs": [],
   "source": [
    "for i in reversed(range(X_train_reduced.shape[1])):\n",
    "    if importance[i]< 0.01:\n",
    "            X_train_reduced.drop(X_train_reduced.columns[i], axis = 1, inplace = True)\n",
    "            X_test_reduced.drop(X_test_reduced.columns[i],  axis = 1, inplace = True)        "
   ]
  },
  {
   "cell_type": "code",
   "execution_count": 818,
   "metadata": {},
   "outputs": [
    {
     "name": "stdout",
     "output_type": "stream",
     "text": [
      "F1 score for Randon Forest classifier: 0.786814 \n"
     ]
    }
   ],
   "source": [
    "RF = RandomForestClassifier(n_estimators = 1000)\n",
    "RF.fit(X_train_reduced,y_resampled)\n",
    "y_pred= RF.predict(X_test_reduced)\n",
    "print('F1 score for Randon Forest classifier: {:2f} '.format(f1_score(y_test, y_pred, average = 'weighted')))"
   ]
  },
  {
   "cell_type": "code",
   "execution_count": 817,
   "metadata": {},
   "outputs": [
    {
     "name": "stdout",
     "output_type": "stream",
     "text": [
      "Feature: 0, Score: 0.0659\n",
      "Feature: 1, Score: 0.0855\n",
      "Feature: 2, Score: 0.0623\n",
      "Feature: 3, Score: 0.0393\n",
      "Feature: 4, Score: 0.0298\n",
      "Feature: 5, Score: 0.0235\n",
      "Feature: 6, Score: 0.0196\n",
      "Feature: 7, Score: 0.0713\n",
      "Feature: 8, Score: 0.0586\n",
      "Feature: 9, Score: 0.0542\n",
      "Feature: 10, Score: 0.0512\n",
      "Feature: 11, Score: 0.0504\n",
      "Feature: 12, Score: 0.0505\n",
      "Feature: 13, Score: 0.0701\n",
      "Feature: 14, Score: 0.0591\n",
      "Feature: 15, Score: 0.0558\n",
      "Feature: 16, Score: 0.0511\n",
      "Feature: 17, Score: 0.0487\n",
      "Feature: 18, Score: 0.0530\n"
     ]
    },
    {
     "data": {
      "image/png": "[encoded data removed]",
      "text/plain": [
       "<Figure size 432x288 with 1 Axes>"
      ]
     },
     "metadata": {
      "needs_background": "light"
     },
     "output_type": "display_data"
    }
   ],
   "source": [
    "#Feature selection for Random Forest Classifier \n",
    "importance = RF.feature_importances_\n",
    "# summarize feature importance\n",
    "for i,v in enumerate(importance):\n",
    "\tprint('Feature: {}, Score: {:.4f}'.format(i,v))\n",
    "# plot feature importance\n",
    "plt.bar([x for x in range(len(importance))], importance)\n",
    "plt.show()"
   ]
  }
 ],
 "metadata": {
  "kernelspec": {
   "display_name": "Python 3",
   "language": "python",
   "name": "python3"
  },
  "language_info": {
   "codemirror_mode": {
    "name": "ipython",
    "version": 3
   },
   "file_extension": ".py",
   "mimetype": "text/x-python",
   "name": "python",
   "nbconvert_exporter": "python",
   "pygments_lexer": "ipython3",
   "version": "3.7.7"
  }
 },
 "nbformat": 4,
 "nbformat_minor": 4
}
