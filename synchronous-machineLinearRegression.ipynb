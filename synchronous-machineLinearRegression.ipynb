{
 "cells": [
  {
   "cell_type": "code",
   "execution_count": null,
   "metadata": {},
   "outputs": [],
   "source": [
    "#Synchronous machine dataset\n",
    "#dataset obtained in http://archive.ics.uci.edu/ml/datasets/Synchronous+Machine+Data+Set\n",
    "\n",
    "#Citation Request:\n",
    "#1) Kahraman, H. T. (2014). Metaheuristic linear modeling technique for estimating the excitation current of a synchronous motor.Â Turkish Journal of Electrical Engineering & Computer Sciences,Â 22(6), 1637-1652.\n",
    "#2) Kahraman, H. T., Bayindir, R, & Sagiroglu, S. (2012). A new approach to predict the excitation current and parameter weightings of synchronous machines based on genetic algorithm-based k-NN estimator.Â Energy Conversion and Management,Â 64, 129-138."
   ]
  },
  {
   "cell_type": "code",
   "execution_count": null,
   "metadata": {},
   "outputs": [],
   "source": [
    "#Iy (Load Current)\n",
    "#PF (Power factor)\n",
    "#e (Power factor error)\n",
    "#dIf (Changing of excitation current of synchronous machine)\n",
    "#If (Excitation current of synchronous machine)\n",
    "\n",
    "#the objective of this dataset is to estimate If of a SM."
   ]
  },
  {
   "cell_type": "code",
   "execution_count": 209,
   "metadata": {},
   "outputs": [],
   "source": [
    "import pandas as pd\n",
    "import matplotlib.pyplot as plt\n",
    "import numpy as np\n",
    "import seaborn as sns"
   ]
  },
  {
   "cell_type": "code",
   "execution_count": 210,
   "metadata": {},
   "outputs": [],
   "source": [
    "from  sklearn.linear_model import LinearRegression\n",
    "from sklearn.dummy import DummyRegressor\n",
    "from sklearn.neighbors import KNeighborsRegressor\n",
    "from sklearn.ensemble import RandomForestRegressor\n",
    "from  sklearn.model_selection import train_test_split\n",
    "from sklearn.preprocessing import MinMaxScaler\n",
    "from sklearn.metrics import mean_squared_error\n",
    "from sklearn.metrics import r2_score"
   ]
  },
  {
   "cell_type": "code",
   "execution_count": 211,
   "metadata": {},
   "outputs": [],
   "source": [
    "from sklearn.model_selection import cross_val_score\n",
    "from sklearn.model_selection import KFold"
   ]
  },
  {
   "cell_type": "code",
   "execution_count": 228,
   "metadata": {},
   "outputs": [],
   "source": [
    "df = pd.read_csv(\"e:/data/synchronous-machine.csv\",sep=';',decimal = ',')"
   ]
  },
  {
   "cell_type": "code",
   "execution_count": 229,
   "metadata": {},
   "outputs": [
    {
     "data": {
      "text/html": [
       "<div>\n",
       "<style scoped>\n",
       "    .dataframe tbody tr th:only-of-type {\n",
       "        vertical-align: middle;\n",
       "    }\n",
       "\n",
       "    .dataframe tbody tr th {\n",
       "        vertical-align: top;\n",
       "    }\n",
       "\n",
       "    .dataframe thead th {\n",
       "        text-align: right;\n",
       "    }\n",
       "</style>\n",
       "<table border=\"1\" class=\"dataframe\">\n",
       "  <thead>\n",
       "    <tr style=\"text-align: right;\">\n",
       "      <th></th>\n",
       "      <th>Iy</th>\n",
       "      <th>PF</th>\n",
       "      <th>e</th>\n",
       "      <th>dIf</th>\n",
       "      <th>If</th>\n",
       "    </tr>\n",
       "  </thead>\n",
       "  <tbody>\n",
       "    <tr>\n",
       "      <th>0</th>\n",
       "      <td>3.0</td>\n",
       "      <td>0.66</td>\n",
       "      <td>0.34</td>\n",
       "      <td>0.383</td>\n",
       "      <td>1.563</td>\n",
       "    </tr>\n",
       "    <tr>\n",
       "      <th>1</th>\n",
       "      <td>3.0</td>\n",
       "      <td>0.68</td>\n",
       "      <td>0.32</td>\n",
       "      <td>0.372</td>\n",
       "      <td>1.552</td>\n",
       "    </tr>\n",
       "    <tr>\n",
       "      <th>2</th>\n",
       "      <td>3.0</td>\n",
       "      <td>0.70</td>\n",
       "      <td>0.30</td>\n",
       "      <td>0.360</td>\n",
       "      <td>1.540</td>\n",
       "    </tr>\n",
       "    <tr>\n",
       "      <th>3</th>\n",
       "      <td>3.0</td>\n",
       "      <td>0.72</td>\n",
       "      <td>0.28</td>\n",
       "      <td>0.338</td>\n",
       "      <td>1.518</td>\n",
       "    </tr>\n",
       "    <tr>\n",
       "      <th>4</th>\n",
       "      <td>3.0</td>\n",
       "      <td>0.74</td>\n",
       "      <td>0.26</td>\n",
       "      <td>0.317</td>\n",
       "      <td>1.497</td>\n",
       "    </tr>\n",
       "  </tbody>\n",
       "</table>\n",
       "</div>"
      ],
      "text/plain": [
       "    Iy    PF     e    dIf     If\n",
       "0  3.0  0.66  0.34  0.383  1.563\n",
       "1  3.0  0.68  0.32  0.372  1.552\n",
       "2  3.0  0.70  0.30  0.360  1.540\n",
       "3  3.0  0.72  0.28  0.338  1.518\n",
       "4  3.0  0.74  0.26  0.317  1.497"
      ]
     },
     "execution_count": 229,
     "metadata": {},
     "output_type": "execute_result"
    }
   ],
   "source": [
    "df.head()"
   ]
  },
  {
   "cell_type": "code",
   "execution_count": 230,
   "metadata": {},
   "outputs": [
    {
     "name": "stdout",
     "output_type": "stream",
     "text": [
      "<class 'pandas.core.frame.DataFrame'>\n",
      "RangeIndex: 557 entries, 0 to 556\n",
      "Data columns (total 5 columns):\n",
      " #   Column  Non-Null Count  Dtype  \n",
      "---  ------  --------------  -----  \n",
      " 0   Iy      557 non-null    float64\n",
      " 1   PF      557 non-null    float64\n",
      " 2   e       557 non-null    float64\n",
      " 3   dIf     557 non-null    float64\n",
      " 4   If      557 non-null    float64\n",
      "dtypes: float64(5)\n",
      "memory usage: 21.9 KB\n",
      "None\n",
      "               Iy          PF           e         dIf          If\n",
      "count  557.000000  557.000000  557.000000  557.000000  557.000000\n",
      "mean     4.499820    0.825296    0.174704    0.350659    1.530659\n",
      "std      0.896024    0.103925    0.103925    0.180566    0.180566\n",
      "min      3.000000    0.650000    0.000000    0.037000    1.217000\n",
      "25%      3.700000    0.740000    0.080000    0.189000    1.369000\n",
      "50%      4.500000    0.820000    0.180000    0.345000    1.525000\n",
      "75%      5.300000    0.920000    0.260000    0.486000    1.666000\n",
      "max      6.000000    1.000000    0.350000    0.769000    1.949000\n"
     ]
    }
   ],
   "source": [
    "print(df.info())\n",
    "print(df.describe())"
   ]
  },
  {
   "cell_type": "code",
   "execution_count": 231,
   "metadata": {},
   "outputs": [
    {
     "data": {
      "image/png": "[encoded data removed]",
      "text/plain": [
       "<Figure size 432x288 with 1 Axes>"
      ]
     },
     "metadata": {
      "needs_background": "light"
     },
     "output_type": "display_data"
    }
   ],
   "source": [
    "boxplot = df.boxplot(column=['Iy', 'PF', 'e', 'dIf', 'If'])"
   ]
  },
  {
   "cell_type": "code",
   "execution_count": 232,
   "metadata": {},
   "outputs": [
    {
     "data": {
      "text/html": [
       "<div>\n",
       "<style scoped>\n",
       "    .dataframe tbody tr th:only-of-type {\n",
       "        vertical-align: middle;\n",
       "    }\n",
       "\n",
       "    .dataframe tbody tr th {\n",
       "        vertical-align: top;\n",
       "    }\n",
       "\n",
       "    .dataframe thead th {\n",
       "        text-align: right;\n",
       "    }\n",
       "</style>\n",
       "<table border=\"1\" class=\"dataframe\">\n",
       "  <thead>\n",
       "    <tr style=\"text-align: right;\">\n",
       "      <th></th>\n",
       "      <th>Iy</th>\n",
       "      <th>PF</th>\n",
       "      <th>e</th>\n",
       "      <th>dIf</th>\n",
       "      <th>If</th>\n",
       "    </tr>\n",
       "  </thead>\n",
       "  <tbody>\n",
       "    <tr>\n",
       "      <th>0</th>\n",
       "      <td>3.0</td>\n",
       "      <td>0.66</td>\n",
       "      <td>0.34</td>\n",
       "      <td>0.383</td>\n",
       "      <td>1.563</td>\n",
       "    </tr>\n",
       "    <tr>\n",
       "      <th>1</th>\n",
       "      <td>3.0</td>\n",
       "      <td>0.68</td>\n",
       "      <td>0.32</td>\n",
       "      <td>0.372</td>\n",
       "      <td>1.552</td>\n",
       "    </tr>\n",
       "    <tr>\n",
       "      <th>2</th>\n",
       "      <td>3.0</td>\n",
       "      <td>0.70</td>\n",
       "      <td>0.30</td>\n",
       "      <td>0.360</td>\n",
       "      <td>1.540</td>\n",
       "    </tr>\n",
       "    <tr>\n",
       "      <th>3</th>\n",
       "      <td>3.0</td>\n",
       "      <td>0.72</td>\n",
       "      <td>0.28</td>\n",
       "      <td>0.338</td>\n",
       "      <td>1.518</td>\n",
       "    </tr>\n",
       "    <tr>\n",
       "      <th>4</th>\n",
       "      <td>3.0</td>\n",
       "      <td>0.74</td>\n",
       "      <td>0.26</td>\n",
       "      <td>0.317</td>\n",
       "      <td>1.497</td>\n",
       "    </tr>\n",
       "  </tbody>\n",
       "</table>\n",
       "</div>"
      ],
      "text/plain": [
       "    Iy    PF     e    dIf     If\n",
       "0  3.0  0.66  0.34  0.383  1.563\n",
       "1  3.0  0.68  0.32  0.372  1.552\n",
       "2  3.0  0.70  0.30  0.360  1.540\n",
       "3  3.0  0.72  0.28  0.338  1.518\n",
       "4  3.0  0.74  0.26  0.317  1.497"
      ]
     },
     "execution_count": 232,
     "metadata": {},
     "output_type": "execute_result"
    }
   ],
   "source": [
    "df.head()"
   ]
  },
  {
   "cell_type": "code",
   "execution_count": 233,
   "metadata": {},
   "outputs": [
    {
     "name": "stdout",
     "output_type": "stream",
     "text": [
      "If     1.000000\n",
      "dIf    1.000000\n",
      "e      0.861013\n",
      "Iy     0.424945\n",
      "PF    -0.861013\n",
      "Name: If, dtype: float64\n"
     ]
    }
   ],
   "source": [
    "corr_matrix = df.corr()\n",
    "print(corr_matrix['If'].sort_values(ascending=False))"
   ]
  },
  {
   "cell_type": "code",
   "execution_count": 234,
   "metadata": {},
   "outputs": [],
   "source": [
    "#Prevent target leakage\n",
    "df.drop('dIf', axis = 1, inplace = True)"
   ]
  },
  {
   "cell_type": "code",
   "execution_count": 235,
   "metadata": {},
   "outputs": [],
   "source": [
    "y = df['If']\n",
    "X = df.copy()\n",
    "X.drop('If',axis = 'columns', inplace = True)"
   ]
  },
  {
   "cell_type": "code",
   "execution_count": 236,
   "metadata": {},
   "outputs": [],
   "source": [
    "X_train, X_test, y_train, y_test = train_test_split(X, y, test_size=0.1,shuffle= True)\n",
    "scaler = MinMaxScaler()\n",
    "X_train = scaler.fit_transform(X_train)\n",
    "X_test = scaler.transform(X_test)"
   ]
  },
  {
   "cell_type": "code",
   "execution_count": 240,
   "metadata": {},
   "outputs": [
    {
     "name": "stdout",
     "output_type": "stream",
     "text": [
      ">LR 0.852 (0.042)\n",
      ">RF 0.989 (0.004)\n",
      ">KNN 0.953 (0.011)\n",
      ">Mean -0.012 (0.014)\n"
     ]
    },
    {
     "data": {
      "image/png": "[encoded data removed]",
      "text/plain": [
       "<Figure size 576x432 with 1 Axes>"
      ]
     },
     "metadata": {
      "needs_background": "light"
     },
     "output_type": "display_data"
    }
   ],
   "source": [
    "# evaluate a model\n",
    "def evaluate_model(X_train, y_train, model):\n",
    "    # define evaluation procedure\n",
    "    cv = KFold(n_splits=10, random_state=5, shuffle = True)\n",
    "    # evaluate model\n",
    "    scores = cross_val_score(model, X_train, y_train, scoring='r2', cv=cv, n_jobs=-1)\n",
    "    \n",
    "    return scores\n",
    "\n",
    "# define models to test\n",
    "def get_models():\n",
    "    models, names = list(), list()\n",
    "    # Linear Regression\n",
    "    models.append(LinearRegression())\n",
    "    names.append('LR')\n",
    "    # Randon forest regressor\n",
    "    models.append(RandomForestRegressor(n_estimators=100))\n",
    "    names.append('RF')\n",
    "    # KNN\n",
    "    models.append(KNeighborsRegressor())\n",
    "    names.append('KNN')\n",
    "    # Dummy s mean\n",
    "    models.append(DummyRegressor(strategy='mean'))\n",
    "    names.append('Mean')\n",
    "    \n",
    "    return models, names\n",
    "\n",
    "# define models\n",
    "models, names = get_models()\n",
    "results = list()\n",
    "# evaluate each model\n",
    "for i in range(len(models)):\n",
    "    # evaluate the model and store results\n",
    "    scores = evaluate_model(X_train, y_train, models[i])\n",
    "    results.append(scores)\n",
    "    # summarize and store\n",
    "    print('>%s %.3f (%.3f)' % (names[i], np.mean(scores), np.std(scores)))\n",
    "# plot the results\n",
    "plt.figure(figsize= (8,6))\n",
    "plt.boxplot(results, labels=names, showmeans=True)\n",
    "plt.title('Regression benchmark results')\n",
    "plt.grid()\n",
    "plt.show()"
   ]
  },
  {
   "cell_type": "code",
   "execution_count": 239,
   "metadata": {},
   "outputs": [
    {
     "name": "stdout",
     "output_type": "stream",
     "text": [
      "Mean squared error: 0.000\n",
      "Coefficient of determination: 0.99\n"
     ]
    },
    {
     "data": {
      "image/png": "[encoded data removed]",
      "text/plain": [
       "<Figure size 576x432 with 1 Axes>"
      ]
     },
     "metadata": {
      "needs_background": "light"
     },
     "output_type": "display_data"
    }
   ],
   "source": [
    "# Create Random Forest regression object\n",
    "RF =  RandomForestRegressor(n_estimators=2)\n",
    "\n",
    "# Train the model using the training sets\n",
    "RF.fit(X_train, y_train)\n",
    "\n",
    "# Make predictions using the testing set\n",
    "y_pred = RF.predict(X_test)\n",
    "\n",
    "# The mean squared error\n",
    "print('Mean squared error: {:.3f}'.format(mean_squared_error(y_test,y_pred)))\n",
    "# The coefficient of determination: 1 is perfect prediction\n",
    "print(\"Coefficient of determination: {:.2f}\".format(r2_score(y_test, y_pred)))\n",
    "\n",
    "# Plot outputs\n",
    "plt.figure(figsize=(8,6))\n",
    "plt.scatter(y_test, y_pred, c='crimson')\n",
    "\n",
    "p1 = max(max(y_pred), max(y_test))\n",
    "p2 = min(min(y_pred), min(y_test))\n",
    "plt.plot([p1, p2], [p1, p2], 'b-')\n",
    "plt.xlabel('True values', fontsize=15)\n",
    "plt.ylabel('Predicted', fontsize=15)\n",
    "plt.axis('equal')\n",
    "plt.grid()\n",
    "plt.title('Random Forest Regression')\n",
    "plt.show()"
   ]
  }
 ],
 "metadata": {
  "kernelspec": {
   "display_name": "Python 3",
   "language": "python",
   "name": "python3"
  },
  "language_info": {
   "codemirror_mode": {
    "name": "ipython",
    "version": 3
   },
   "file_extension": ".py",
   "mimetype": "text/x-python",
   "name": "python",
   "nbconvert_exporter": "python",
   "pygments_lexer": "ipython3",
   "version": "3.7.7"
  }
 },
 "nbformat": 4,
 "nbformat_minor": 4
}
